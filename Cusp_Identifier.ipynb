{
 "cells": [
  {
   "cell_type": "code",
   "execution_count": 1,
   "metadata": {},
   "outputs": [],
   "source": [
    "import os\n",
    "import glob\n",
    "from PIL import Image\n",
    "\n",
    "import cv2\n",
    "import numpy as np\n",
    "from tqdm import tqdm\n",
    "import matplotlib.pyplot as plt\n",
    "import tensorflow as tf\n",
    "\n",
    "from tensorflow.keras import layers, models\n",
    "from ipywidgets import Button, HBox, VBox, Output, Layout\n",
    "from IPython.display import display, clear_output"
   ]
  },
  {
   "cell_type": "code",
   "execution_count": null,
   "metadata": {},
   "outputs": [],
   "source": [
    "image_folder= '/Users/rfalcao/Documents/Cusp Images - SEM'\n",
    "image_files = sorted(os.listdir(image_folder))\n",
    "image_path = os.path.join(image_folder, image_files[0])"
   ]
  },
  {
   "cell_type": "code",
   "execution_count": 2,
   "metadata": {},
   "outputs": [],
   "source": [
    "from Rotation import ImageAlignment "
   ]
  },
  {
   "cell_type": "code",
   "execution_count": 5,
   "metadata": {},
   "outputs": [
    {
     "name": "stderr",
     "output_type": "stream",
     "text": [
      "Processing Images (translation):   0%|          | 0/44 [00:00<?, ?it/s]"
     ]
    },
    {
     "name": "stderr",
     "output_type": "stream",
     "text": [
      "Processing Images (translation): 100%|██████████| 44/44 [04:05<00:00,  5.57s/it]"
     ]
    },
    {
     "name": "stdout",
     "output_type": "stream",
     "text": [
      "Rotation Angles: {'12.tif': -3, '8 (1).tif': 87, '2b_i_i_2_1000x.tif': -48, 'FM024_3_a_i_AOI4_5000x.tif': -2, '11.tif': -25, '2b_iii_ii_5_1000x.tif': 36, 'RT_dry_1mmmin_500x.tif': -89, '5 (2).tif': 12, '15.tif': -5, '90C_dry_0.1mmmin_500x.tif': -89, '6 (4).tif': -1, 'FM024_3_a_i_AOI4_1500x.tif': -3, '90C_dry_100mmmin_500x.tif': 3, '-55C_dry_1mmmin_1000x.tif': -88, '-55C_wet_1mmmin_500x.tif': 2, 'FM024_3_a_i_AOI8_1300x.tif': 6, 'RT_500x.tif': -89, '11 (1).tif': -2, '6 (3).tif': -8, '90C_dry_100mmmin_1000x.tif': 2, '2 (1).tif': -85, '2bi_iii_4_1000x.tif': -64, 'FM024_1_d_i_flatbed_ML1_1_atTTR_2000x_45degtilt.tif': 3, 'FM024_3_e_i_flatbed_ML1_2_1000x_45degtilt.tif': 37, '6 (1).tif': 12, '11 (3).tif': 1, 'FM024_1_b_ii_delam2_ML1_1_1300x.tif': 21, 'FM024_1_b_ii_delam2_ML1_3_400x.tif': -8, '1.tif': -26, '23 (1).tif': -6, '5.tif': -89, '11 (2).tif': -6, '90C_dry_0.1mmmin_1000x.tif': 87, '2b_i_ii_2_2000x.tif': -88, '26.tif': -6, '25.tif': -6, '24.tif': -5, '18.tif': 8, '2b_iii_i_3_2000x.tif': -53, 'FM024_3_a_i_AOI4_5000x_q2.png': 3, '23.tif': 89, 'FM024_3_a_i_AOI4_5000x_q3.png': -73, 'CT_dry_90C_5000x_15tilt_90degreefibres.tif': -88, 'FM024_3_e_i_flatbed_ML1_1_2000x_45degtilt.tif': 2}\n"
     ]
    },
    {
     "name": "stderr",
     "output_type": "stream",
     "text": [
      "\n"
     ]
    },
    {
     "data": {
      "text/plain": [
       "{'12.tif': -3,\n",
       " '8 (1).tif': 87,\n",
       " '2b_i_i_2_1000x.tif': -48,\n",
       " 'FM024_3_a_i_AOI4_5000x.tif': -2,\n",
       " '11.tif': -25,\n",
       " '2b_iii_ii_5_1000x.tif': 36,\n",
       " 'RT_dry_1mmmin_500x.tif': -89,\n",
       " '5 (2).tif': 12,\n",
       " '15.tif': -5,\n",
       " '90C_dry_0.1mmmin_500x.tif': -89,\n",
       " '6 (4).tif': -1,\n",
       " 'FM024_3_a_i_AOI4_1500x.tif': -3,\n",
       " '90C_dry_100mmmin_500x.tif': 3,\n",
       " '-55C_dry_1mmmin_1000x.tif': -88,\n",
       " '-55C_wet_1mmmin_500x.tif': 2,\n",
       " 'FM024_3_a_i_AOI8_1300x.tif': 6,\n",
       " 'RT_500x.tif': -89,\n",
       " '11 (1).tif': -2,\n",
       " '6 (3).tif': -8,\n",
       " '90C_dry_100mmmin_1000x.tif': 2,\n",
       " '2 (1).tif': -85,\n",
       " '2bi_iii_4_1000x.tif': -64,\n",
       " 'FM024_1_d_i_flatbed_ML1_1_atTTR_2000x_45degtilt.tif': 3,\n",
       " 'FM024_3_e_i_flatbed_ML1_2_1000x_45degtilt.tif': 37,\n",
       " '6 (1).tif': 12,\n",
       " '11 (3).tif': 1,\n",
       " 'FM024_1_b_ii_delam2_ML1_1_1300x.tif': 21,\n",
       " 'FM024_1_b_ii_delam2_ML1_3_400x.tif': -8,\n",
       " '1.tif': -26,\n",
       " '23 (1).tif': -6,\n",
       " '5.tif': -89,\n",
       " '11 (2).tif': -6,\n",
       " '90C_dry_0.1mmmin_1000x.tif': 87,\n",
       " '2b_i_ii_2_2000x.tif': -88,\n",
       " '26.tif': -6,\n",
       " '25.tif': -6,\n",
       " '24.tif': -5,\n",
       " '18.tif': 8,\n",
       " '2b_iii_i_3_2000x.tif': -53,\n",
       " 'FM024_3_a_i_AOI4_5000x_q2.png': 3,\n",
       " '23.tif': 89,\n",
       " 'FM024_3_a_i_AOI4_5000x_q3.png': -73,\n",
       " 'CT_dry_90C_5000x_15tilt_90degreefibres.tif': -88,\n",
       " 'FM024_3_e_i_flatbed_ML1_1_2000x_45degtilt.tif': 2}"
      ]
     },
     "execution_count": 5,
     "metadata": {},
     "output_type": "execute_result"
    }
   ],
   "source": [
    "aligner = ImageAlignment('/Users/rfalcao/Documents/Clear Cusps', '/Users/rfalcao/Documents/ClearCuspsCroppedRotated',False)\n",
    "aligner.process_all_images(method=\"translation\") #Methods: 'fft' , 'radon', 'translation' , 'crop_only' , 'all"
   ]
  },
  {
   "cell_type": "code",
   "execution_count": null,
   "metadata": {},
   "outputs": [],
   "source": []
  },
  {
   "cell_type": "code",
   "execution_count": null,
   "metadata": {},
   "outputs": [],
   "source": [
    "import os\n",
    "import cv2\n",
    "import numpy as np\n",
    "import shutil\n",
    "import matplotlib.pyplot as plt\n",
    "from ipywidgets import Button, HBox, VBox, Output, Layout\n",
    "from IPython.display import display, clear_output\n",
    "\n",
    "def classify_clear_cusp_images(image_folder, output_folder):\n",
    "    \"\"\"\n",
    "    Iterates through images in a folder, displays them for manual classification\n",
    "    using interactive widgets, and saves selected images with clear cusps.\n",
    "\n",
    "    Parameters:\n",
    "        - image_folder: Folder containing images to classify.\n",
    "        - output_folder: Folder where selected images will be saved.\n",
    "    \"\"\"\n",
    "    if not os.path.exists(output_folder):\n",
    "        os.makedirs(output_folder)\n",
    "\n",
    "    # Get list of image files\n",
    "    image_files = [f for f in os.listdir(image_folder) if f.lower().endswith(('.png', '.jpg', '.tif'))]\n",
    "    image_index = [0]  # Mutable index to track current image\n",
    "\n",
    "    output = Output()\n",
    "\n",
    "    def update_display():\n",
    "        \"\"\"Updates the display to show the current image.\"\"\"\n",
    "        with output:\n",
    "            clear_output(wait=True)\n",
    "            if image_index[0] >= len(image_files):\n",
    "                print(\"Classification complete! Selected images have been saved.\")\n",
    "                return\n",
    "            \n",
    "            # Load and display the current image\n",
    "            filename = image_files[image_index[0]]\n",
    "            image_path = os.path.join(image_folder, filename)\n",
    "            image = cv2.imread(image_path, cv2.IMREAD_GRAYSCALE)\n",
    "\n",
    "            plt.figure(figsize=(6, 6))\n",
    "            plt.title(f\"Does this image have clear cusps? \\nFilename: {filename}\")\n",
    "            plt.imshow(image, cmap='gray')\n",
    "            plt.axis('off')\n",
    "            plt.show()\n",
    "\n",
    "    def on_save_clicked(b):\n",
    "        \"\"\"Handles 'Save' button click (move image to output folder).\"\"\"\n",
    "        filename = image_files[image_index[0]]\n",
    "        src_path = os.path.join(image_folder, filename)\n",
    "        dst_path = os.path.join(output_folder, filename)\n",
    "        shutil.copy(src_path, dst_path)  # Copy the image to the new folder\n",
    "        next_image()\n",
    "\n",
    "    def on_skip_clicked(b):\n",
    "        \"\"\"Handles 'Skip' button click.\"\"\"\n",
    "        next_image()\n",
    "\n",
    "    def next_image():\n",
    "        \"\"\"Moves to the next image or ends classification if all are processed.\"\"\"\n",
    "        image_index[0] += 1\n",
    "        update_display()\n",
    "\n",
    "    # Create buttons\n",
    "    save_button = Button(description=\"Yes\", button_style='success', layout=Layout(width='100px'))\n",
    "    skip_button = Button(description=\"No\", button_style='warning', layout=Layout(width='100px'))\n",
    "\n",
    "    save_button.on_click(on_save_clicked)\n",
    "    skip_button.on_click(on_skip_clicked)\n",
    "\n",
    "    # Display UI\n",
    "    controls = HBox([save_button, skip_button])\n",
    "    display(VBox([output, controls]))\n",
    "\n",
    "    update_display()\n",
    "\n",
    "# Paths\n",
    "image_folder = '/Users/rfalcao/Documents/Cusp Images - SEM'  # Replace with the actual folder\n",
    "output_folder = '/Users/rfalcao/Documents/Clear Cusps'  # Replace with the actual folder\n",
    "\n",
    "# Run the classification\n",
    "classify_clear_cusp_images(image_folder, output_folder)\n"
   ]
  },
  {
   "cell_type": "code",
   "execution_count": 11,
   "metadata": {},
   "outputs": [
    {
     "data": {
      "application/vnd.jupyter.widget-view+json": {
       "model_id": "047ba6dbf3cc4d319df8e88d56067f6e",
       "version_major": 2,
       "version_minor": 0
      },
      "text/plain": [
       "VBox(children=(Output(), HBox(children=(Button(button_style='success', description='Cusp', layout=Layout(width…"
      ]
     },
     "metadata": {},
     "output_type": "display_data"
    }
   ],
   "source": [
    "import os\n",
    "import cv2\n",
    "import numpy as np\n",
    "import shutil\n",
    "import matplotlib.pyplot as plt\n",
    "from ipywidgets import Button, HBox, VBox, Output, Layout\n",
    "from IPython.display import display, clear_output\n",
    "#LABELING CODE\n",
    "def label_cusps(image_folder):\n",
    "    \"\"\"\n",
    "    Iterates through images in a folder, displays them for manual classification\n",
    "    using interactive widgets, and saves selected images with clear cusps.\n",
    "\n",
    "    Parameters:\n",
    "        - image_folder: Folder containing images to classify.\n",
    "        - output_folder: Folder where selected images will be saved.\n",
    "    \"\"\"\n",
    "    \n",
    "\n",
    "    # Get list of image files\n",
    "    image_files = [f for f in os.listdir(image_folder) if f.lower().endswith(('.png', '.jpg', '.tif'))]\n",
    "    image_index = [0]  # Mutable index to track current image\n",
    "    classifications={}\n",
    "    output = Output()\n",
    "\n",
    "    def update_display():\n",
    "        \"\"\"Updates the display to show the current image.\"\"\"\n",
    "        with output:\n",
    "            clear_output(wait=True)\n",
    "            if image_index[0] >= len(image_files):\n",
    "                print(\"Labels Complete! Selected images have been saved.\")\n",
    "                return\n",
    "            \n",
    "            # Load and display the current image\n",
    "            filename = image_files[image_index[0]]\n",
    "            image_path = os.path.join(image_folder, filename)\n",
    "            image = cv2.imread(image_path, cv2.IMREAD_GRAYSCALE)\n",
    "\n",
    "            plt.figure(figsize=(6, 6))\n",
    "            plt.title(f\"Does this image have clear cusps? \\nFilename: {filename}\")\n",
    "            plt.imshow(image, cmap='gray')\n",
    "            plt.axis('off')\n",
    "            plt.show()\n",
    "\n",
    "    def on_yes_clicked(b):\n",
    "        \"\"\"Handles 'Save' button click (move image to output folder).\"\"\"\n",
    "        filename = image_files[image_index[0]]\n",
    "        classifications[filename]=1\n",
    "        next_image()\n",
    "\n",
    "    def on_no_clicked(b):\n",
    "        filename = image_files[image_index[0]]\n",
    "        classifications[filename]=0\n",
    "        next_image()\n",
    "\n",
    "    def next_image():\n",
    "        \"\"\"Moves to the next image or ends classification if all are processed.\"\"\"\n",
    "        image_index[0] += 1\n",
    "        update_display()\n",
    "\n",
    "    # Create buttons\n",
    "    yes_button = Button(description=\"Cusp\", button_style='success', layout=Layout(width='100px'))\n",
    "    no_button = Button(description=\"No Cusp\", button_style='warning', layout=Layout(width='100px'))\n",
    "\n",
    "    yes_button.on_click(on_yes_clicked)\n",
    "    no_button.on_click(on_no_clicked)\n",
    "\n",
    "    # Display UI\n",
    "    controls = HBox([yes_button, no_button])\n",
    "    display(VBox([output, controls]))\n",
    "\n",
    "    update_display()\n",
    "    return classifications\n",
    "# Paths\n",
    "image_folder = \"/Users/rfalcao/Documents/Separated Clear Cusps\" \n",
    "# Run the classification\n",
    "labels=label_cusps(image_folder)\n"
   ]
  },
  {
   "cell_type": "markdown",
   "metadata": {},
   "source": [
    "Segmentation code - DeepSeek"
   ]
  },
  {
   "cell_type": "code",
   "execution_count": 12,
   "metadata": {},
   "outputs": [
    {
     "name": "stdout",
     "output_type": "stream",
     "text": [
      "{'12_q3_q1_q3_q3.png': 1, '12_q3_q3_q2_q0.png': 1, '12_q3_q3_q2_q1.png': 1, '12_q3_q1_q3_q2.png': 1, '12_q3_q1_q3_q0.png': 1, '12_q3_q3_q2_q3.png': 0, '12_q3_q3_q2_q2.png': 1, '12_q3_q1_q3_q1.png': 1, '12_q3_q3_q0_q3.png': 1, '12_q3_q1_q1_q0.png': 1, '12_q3_q1_q1_q1.png': 1, '12_q3_q3_q0_q2.png': 1, '12_q3_q3_q0_q0.png': 1, '12_q3_q3_q0_q1.png': 1, '12_q2_q1_q3.png': 1, '12_q2_q1_q2.png': 1, '12_q3_q0_q3_q0.png': 0, '12_q2_q1_q0.png': 1, '12_q2_q1_q1.png': 1, '12_q3_q0_q3_q1.png': 1, '8 (1)_q3.png': 1, '11_q3_q0.png': 1, '11_q3_q1.png': 1, '8 (1)_q2.png': 1, '12_q2_q3_q1.png': 1, '8 (1)_q0.png': 1, '11_q3_q2.png': 1, '8 (1)_q1.png': 1, '12_q2_q3_q2.png': 1, '12_q3_q1_q2_q1.png': 1, '12_q3_q3_q3_q2.png': 0, '12_q3_q3_q3_q3.png': 0, '12_q1_q3.png': 1, '12_q3_q1_q2_q0.png': 1, '12_q3_q1_q2_q2.png': 1, '12_q3_q3_q3_q1.png': 1, '12_q1_q1_q0.png': 1, '12_q3_q3_q3_q0.png': 1, '12_q3_q1_q2_q3.png': 1, '12_q3_q3_q1_q1.png': 1, '12_q3_q3_q1_q0.png': 1, '12_q3_q3_q1_q2.png': 1, '12_q3_q1_q0_q1.png': 0, '12_q3_q1_q0_q0.png': 0, '12_q3_q3_q1_q3.png': 0, '12_q3_q2_q0.png': 1, '12_q2_q0_q1.png': 1, '12_q3_q2_q3_q3.png': 0, '2b_i_i_2_1000x_q3_q3.png': 0, '12_q3_q0_q2_q0.png': 1, '12_q2_q0_q2.png': 1, '12_q3_q0_q2_q3.png': 1, '12_q2_q0_q3.png': 1, '11_q2_q2.png': 1, '11_q2_q3.png': 1, '12_q3_q2_q1_q0.png': 1, '12_q3_q2_q1_q2.png': 1, '11_q2_q1.png': 1, '11_q2_q0.png': 1, '12_q3_q2_q1_q3.png': 1}\n"
     ]
    }
   ],
   "source": [
    "print(labels)"
   ]
  },
  {
   "cell_type": "code",
   "execution_count": 7,
   "metadata": {},
   "outputs": [
    {
     "data": {
      "application/vnd.jupyter.widget-view+json": {
       "model_id": "6783d340c44648d0aa3a5ca219dcb89c",
       "version_major": 2,
       "version_minor": 0
      },
      "text/plain": [
       "VBox(children=(Output(), HBox(children=(Button(button_style='success', description='Yes (Quarter)', layout=Lay…"
      ]
     },
     "metadata": {},
     "output_type": "display_data"
    },
    {
     "name": "stdout",
     "output_type": "stream",
     "text": [
      "Saved: /Users/rfalcao/Documents/Separated Clear Cusps/12_q3_q3_q3_q3.png\n"
     ]
    },
    {
     "name": "stdout",
     "output_type": "stream",
     "text": [
      "Saved: /Users/rfalcao/Documents/Separated Clear Cusps/12_q3_q3_q3_q2.png\n"
     ]
    },
    {
     "name": "stdout",
     "output_type": "stream",
     "text": [
      "Saved: /Users/rfalcao/Documents/Separated Clear Cusps/12_q3_q3_q3_q1.png\n"
     ]
    },
    {
     "name": "stdout",
     "output_type": "stream",
     "text": [
      "Saved: /Users/rfalcao/Documents/Separated Clear Cusps/12_q3_q3_q3_q0.png\n"
     ]
    },
    {
     "name": "stdout",
     "output_type": "stream",
     "text": [
      "Saved: /Users/rfalcao/Documents/Separated Clear Cusps/12_q3_q3_q2_q3.png\n"
     ]
    },
    {
     "name": "stdout",
     "output_type": "stream",
     "text": [
      "Saved: /Users/rfalcao/Documents/Separated Clear Cusps/12_q3_q3_q2_q2.png\n"
     ]
    },
    {
     "name": "stdout",
     "output_type": "stream",
     "text": [
      "Saved: /Users/rfalcao/Documents/Separated Clear Cusps/12_q3_q3_q2_q1.png\n"
     ]
    },
    {
     "name": "stdout",
     "output_type": "stream",
     "text": [
      "Saved: /Users/rfalcao/Documents/Separated Clear Cusps/12_q3_q3_q2_q0.png\n"
     ]
    },
    {
     "name": "stdout",
     "output_type": "stream",
     "text": [
      "Saved: /Users/rfalcao/Documents/Separated Clear Cusps/12_q3_q3_q1_q3.png\n"
     ]
    },
    {
     "name": "stdout",
     "output_type": "stream",
     "text": [
      "Saved: /Users/rfalcao/Documents/Separated Clear Cusps/12_q3_q3_q1_q2.png\n"
     ]
    },
    {
     "name": "stdout",
     "output_type": "stream",
     "text": [
      "Saved: /Users/rfalcao/Documents/Separated Clear Cusps/12_q3_q3_q1_q1.png\n"
     ]
    },
    {
     "name": "stdout",
     "output_type": "stream",
     "text": [
      "Saved: /Users/rfalcao/Documents/Separated Clear Cusps/12_q3_q3_q1_q0.png\n"
     ]
    },
    {
     "name": "stdout",
     "output_type": "stream",
     "text": [
      "Saved: /Users/rfalcao/Documents/Separated Clear Cusps/12_q3_q3_q0_q3.png\n"
     ]
    },
    {
     "name": "stdout",
     "output_type": "stream",
     "text": [
      "Saved: /Users/rfalcao/Documents/Separated Clear Cusps/12_q3_q3_q0_q2.png\n"
     ]
    },
    {
     "name": "stdout",
     "output_type": "stream",
     "text": [
      "Saved: /Users/rfalcao/Documents/Separated Clear Cusps/12_q3_q3_q0_q1.png\n"
     ]
    },
    {
     "name": "stdout",
     "output_type": "stream",
     "text": [
      "Saved: /Users/rfalcao/Documents/Separated Clear Cusps/12_q3_q3_q0_q0.png\n"
     ]
    },
    {
     "name": "stdout",
     "output_type": "stream",
     "text": [
      "Saved: /Users/rfalcao/Documents/Separated Clear Cusps/12_q3_q2_q3_q3.png\n"
     ]
    },
    {
     "name": "stdout",
     "output_type": "stream",
     "text": [
      "Saved: /Users/rfalcao/Documents/Separated Clear Cusps/12_q3_q2_q1_q3.png\n"
     ]
    },
    {
     "name": "stdout",
     "output_type": "stream",
     "text": [
      "Saved: /Users/rfalcao/Documents/Separated Clear Cusps/12_q3_q2_q1_q2.png\n"
     ]
    },
    {
     "name": "stdout",
     "output_type": "stream",
     "text": [
      "Saved: /Users/rfalcao/Documents/Separated Clear Cusps/12_q3_q2_q1_q0.png\n"
     ]
    },
    {
     "name": "stdout",
     "output_type": "stream",
     "text": [
      "Saved: /Users/rfalcao/Documents/Separated Clear Cusps/12_q3_q2_q0.png\n"
     ]
    },
    {
     "name": "stdout",
     "output_type": "stream",
     "text": [
      "Saved: /Users/rfalcao/Documents/Separated Clear Cusps/12_q3_q1_q3_q3.png\n"
     ]
    },
    {
     "name": "stdout",
     "output_type": "stream",
     "text": [
      "Saved: /Users/rfalcao/Documents/Separated Clear Cusps/12_q3_q1_q3_q2.png\n"
     ]
    },
    {
     "name": "stdout",
     "output_type": "stream",
     "text": [
      "Saved: /Users/rfalcao/Documents/Separated Clear Cusps/12_q3_q1_q3_q1.png\n"
     ]
    },
    {
     "name": "stdout",
     "output_type": "stream",
     "text": [
      "Saved: /Users/rfalcao/Documents/Separated Clear Cusps/12_q3_q1_q3_q0.png\n"
     ]
    },
    {
     "name": "stdout",
     "output_type": "stream",
     "text": [
      "Saved: /Users/rfalcao/Documents/Separated Clear Cusps/12_q3_q1_q2_q3.png\n"
     ]
    },
    {
     "name": "stdout",
     "output_type": "stream",
     "text": [
      "Saved: /Users/rfalcao/Documents/Separated Clear Cusps/12_q3_q1_q2_q2.png\n"
     ]
    },
    {
     "name": "stdout",
     "output_type": "stream",
     "text": [
      "Saved: /Users/rfalcao/Documents/Separated Clear Cusps/12_q3_q1_q2_q1.png\n"
     ]
    },
    {
     "name": "stdout",
     "output_type": "stream",
     "text": [
      "Saved: /Users/rfalcao/Documents/Separated Clear Cusps/12_q3_q1_q2_q0.png\n"
     ]
    },
    {
     "name": "stdout",
     "output_type": "stream",
     "text": [
      "Saved: /Users/rfalcao/Documents/Separated Clear Cusps/12_q3_q1_q1_q1.png\n"
     ]
    },
    {
     "name": "stdout",
     "output_type": "stream",
     "text": [
      "Saved: /Users/rfalcao/Documents/Separated Clear Cusps/12_q3_q1_q1_q0.png\n"
     ]
    },
    {
     "name": "stdout",
     "output_type": "stream",
     "text": [
      "Saved: /Users/rfalcao/Documents/Separated Clear Cusps/12_q3_q1_q0_q1.png\n"
     ]
    },
    {
     "name": "stdout",
     "output_type": "stream",
     "text": [
      "Saved: /Users/rfalcao/Documents/Separated Clear Cusps/12_q3_q1_q0_q0.png\n"
     ]
    },
    {
     "name": "stdout",
     "output_type": "stream",
     "text": [
      "Saved: /Users/rfalcao/Documents/Separated Clear Cusps/12_q3_q0_q3_q1.png\n"
     ]
    },
    {
     "name": "stdout",
     "output_type": "stream",
     "text": [
      "Saved: /Users/rfalcao/Documents/Separated Clear Cusps/12_q3_q0_q3_q0.png\n"
     ]
    },
    {
     "name": "stdout",
     "output_type": "stream",
     "text": [
      "Saved: /Users/rfalcao/Documents/Separated Clear Cusps/12_q3_q0_q2_q3.png\n"
     ]
    },
    {
     "name": "stdout",
     "output_type": "stream",
     "text": [
      "Saved: /Users/rfalcao/Documents/Separated Clear Cusps/12_q3_q0_q2_q0.png\n"
     ]
    },
    {
     "name": "stdout",
     "output_type": "stream",
     "text": [
      "Saved: /Users/rfalcao/Documents/Separated Clear Cusps/12_q2_q3_q2.png\n"
     ]
    },
    {
     "name": "stdout",
     "output_type": "stream",
     "text": [
      "Saved: /Users/rfalcao/Documents/Separated Clear Cusps/12_q2_q3_q1.png\n"
     ]
    },
    {
     "name": "stdout",
     "output_type": "stream",
     "text": [
      "Saved: /Users/rfalcao/Documents/Separated Clear Cusps/12_q2_q1_q3.png\n"
     ]
    },
    {
     "name": "stdout",
     "output_type": "stream",
     "text": [
      "Saved: /Users/rfalcao/Documents/Separated Clear Cusps/12_q2_q1_q2.png\n"
     ]
    },
    {
     "name": "stdout",
     "output_type": "stream",
     "text": [
      "Saved: /Users/rfalcao/Documents/Separated Clear Cusps/12_q2_q1_q1.png\n"
     ]
    },
    {
     "name": "stdout",
     "output_type": "stream",
     "text": [
      "Saved: /Users/rfalcao/Documents/Separated Clear Cusps/12_q2_q1_q0.png\n"
     ]
    },
    {
     "name": "stdout",
     "output_type": "stream",
     "text": [
      "Saved: /Users/rfalcao/Documents/Separated Clear Cusps/12_q2_q0_q3.png\n"
     ]
    },
    {
     "name": "stdout",
     "output_type": "stream",
     "text": [
      "Saved: /Users/rfalcao/Documents/Separated Clear Cusps/12_q2_q0_q2.png\n"
     ]
    },
    {
     "name": "stdout",
     "output_type": "stream",
     "text": [
      "Saved: /Users/rfalcao/Documents/Separated Clear Cusps/12_q2_q0_q1.png\n"
     ]
    },
    {
     "name": "stdout",
     "output_type": "stream",
     "text": [
      "Saved: /Users/rfalcao/Documents/Separated Clear Cusps/12_q1_q3.png\n"
     ]
    },
    {
     "name": "stdout",
     "output_type": "stream",
     "text": [
      "Saved: /Users/rfalcao/Documents/Separated Clear Cusps/12_q1_q1_q0.png\n"
     ]
    },
    {
     "name": "stdout",
     "output_type": "stream",
     "text": [
      "Saved: /Users/rfalcao/Documents/Separated Clear Cusps/8 (1)_q3.png\n"
     ]
    },
    {
     "name": "stdout",
     "output_type": "stream",
     "text": [
      "Saved: /Users/rfalcao/Documents/Separated Clear Cusps/8 (1)_q2.png\n"
     ]
    },
    {
     "name": "stdout",
     "output_type": "stream",
     "text": [
      "Saved: /Users/rfalcao/Documents/Separated Clear Cusps/8 (1)_q1.png\n"
     ]
    },
    {
     "name": "stdout",
     "output_type": "stream",
     "text": [
      "Saved: /Users/rfalcao/Documents/Separated Clear Cusps/8 (1)_q0.png\n"
     ]
    },
    {
     "name": "stdout",
     "output_type": "stream",
     "text": [
      "Saved: /Users/rfalcao/Documents/Separated Clear Cusps/2b_i_i_2_1000x_q3_q3.png\n"
     ]
    },
    {
     "name": "stdout",
     "output_type": "stream",
     "text": [
      "Saved: /Users/rfalcao/Documents/Separated Clear Cusps/11_q3_q2.png\n"
     ]
    },
    {
     "name": "stdout",
     "output_type": "stream",
     "text": [
      "Saved: /Users/rfalcao/Documents/Separated Clear Cusps/11_q3_q1.png\n"
     ]
    },
    {
     "name": "stdout",
     "output_type": "stream",
     "text": [
      "Saved: /Users/rfalcao/Documents/Separated Clear Cusps/11_q3_q0.png\n"
     ]
    },
    {
     "name": "stdout",
     "output_type": "stream",
     "text": [
      "Saved: /Users/rfalcao/Documents/Separated Clear Cusps/11_q2_q3.png\n"
     ]
    },
    {
     "name": "stdout",
     "output_type": "stream",
     "text": [
      "Saved: /Users/rfalcao/Documents/Separated Clear Cusps/11_q2_q2.png\n"
     ]
    },
    {
     "name": "stdout",
     "output_type": "stream",
     "text": [
      "Saved: /Users/rfalcao/Documents/Separated Clear Cusps/11_q2_q1.png\n"
     ]
    },
    {
     "name": "stdout",
     "output_type": "stream",
     "text": [
      "Saved: /Users/rfalcao/Documents/Separated Clear Cusps/11_q2_q0.png\n"
     ]
    }
   ],
   "source": [
    "import os\n",
    "import cv2\n",
    "import numpy as np\n",
    "import matplotlib.pyplot as plt\n",
    "from ipywidgets import Button, HBox, VBox, Output, Layout\n",
    "from IPython.display import display, clear_output\n",
    "\n",
    "input_folder = '/Users/rfalcao/Documents/ClearCuspsCroppedRotated'  \n",
    "output_folder = \"/Users/rfalcao/Documents/Separated Clear Cusps\"  \n",
    "os.makedirs(output_folder, exist_ok=True)\n",
    "\n",
    "image_files = [os.path.join(input_folder, f) for f in os.listdir(input_folder) if f.lower().endswith(('.png', '.jpg', '.tif'))]\n",
    "image_queue = image_files[:]  \n",
    "quartered_queue = []  \n",
    "\n",
    "output = Output()\n",
    "\n",
    "def update_display(image, title):\n",
    "    with output:\n",
    "        clear_output(wait=True)\n",
    "        plt.figure(figsize=(6, 6))\n",
    "        plt.title(title)\n",
    "        plt.imshow(image, cmap='gray')\n",
    "        plt.axis('off')\n",
    "        plt.show()\n",
    "\n",
    "# Function to quarter image\n",
    "def quarter_image(image):\n",
    "    h, w = image.shape\n",
    "    half_h, half_w = h // 2, w // 2\n",
    "    return [\n",
    "        image[:half_h, :half_w], image[:half_h, half_w:],\n",
    "        image[half_h:, :half_w], image[half_h:, half_w:]\n",
    "    ]\n",
    "\n",
    "# Function to process next image\n",
    "def next_image():\n",
    "    if quartered_queue:\n",
    "        # Process the most recent quartered image first\n",
    "        q_image, base_name, i = quartered_queue[-1]\n",
    "        update_display(q_image, f\"Quarter {i} of {base_name}\")\n",
    "    elif image_queue:\n",
    "        # Process the next image in the original queue\n",
    "        image_path = image_queue[0]\n",
    "        image = cv2.imread(image_path, cv2.IMREAD_GRAYSCALE)\n",
    "        update_display(image, f\"Inspecting: {os.path.basename(image_path)}\")\n",
    "    else:\n",
    "        with output:\n",
    "            clear_output(wait=True)\n",
    "            print(\"All images processed!\")\n",
    "\n",
    "# Button callbacks\n",
    "def on_yes_clicked(b):\n",
    "    if quartered_queue:\n",
    "        # Quarter the most recent quartered image\n",
    "        q_image, base_name, i = quartered_queue.pop()\n",
    "        if q_image.shape[0] > 50 and q_image.shape[1] > 50:  # Only split if large enough\n",
    "            quarters = quarter_image(q_image)\n",
    "            for j, q in enumerate(quarters):\n",
    "                quartered_queue.append((q, f\"{base_name}_q{i}\", j))  # Add new quarters to the stack\n",
    "    elif image_queue:\n",
    "        # Quarter the next image in the original queue\n",
    "        image_path = image_queue.pop(0)\n",
    "        image = cv2.imread(image_path, cv2.IMREAD_GRAYSCALE)\n",
    "        if image.shape[0] > 50 and image.shape[1] > 50:  # Only split if large enough\n",
    "            quarters = quarter_image(image)\n",
    "            base_name = os.path.splitext(os.path.basename(image_path))[0]\n",
    "            for i, q in enumerate(quarters):\n",
    "                quartered_queue.append((q, base_name, i))  # Add quarters to the stack\n",
    "    next_image()  \n",
    "def on_no_clicked(b):\n",
    "    if quartered_queue:\n",
    "        quartered_queue.pop() \n",
    "    next_image()  \n",
    "\n",
    "def on_save_clicked(b):\n",
    "    if quartered_queue:\n",
    "        q_image, base_name, i = quartered_queue.pop()\n",
    "        save_path = os.path.join(output_folder, f\"{base_name}_q{i}.png\")\n",
    "        cv2.imwrite(save_path, q_image)  \n",
    "        print(f\"Saved: {save_path}\")\n",
    "    next_image()  \n",
    "\n",
    "# Create buttons\n",
    "yes_button = Button(description=\"Yes (Quarter)\", button_style='success', layout=Layout(width='150px'))\n",
    "no_button = Button(description=\"No (Skip)\", button_style='warning', layout=Layout(width='150px'))\n",
    "save_button = Button(description=\"Save (Final Cusp)\", button_style='primary', layout=Layout(width='150px'))\n",
    "\n",
    "yes_button.on_click(on_yes_clicked)\n",
    "no_button.on_click(on_no_clicked)\n",
    "save_button.on_click(on_save_clicked)\n",
    "\n",
    "controls = HBox([yes_button, no_button, save_button])\n",
    "display(VBox([output, controls]))\n",
    "\n",
    "# Start processing\n",
    "next_image()"
   ]
  },
  {
   "cell_type": "code",
   "execution_count": null,
   "metadata": {},
   "outputs": [
    {
     "data": {
      "application/vnd.jupyter.widget-view+json": {
       "model_id": "7bb9a17a095f47488928d8c5aa3d6078",
       "version_major": 2,
       "version_minor": 0
      },
      "text/plain": [
       "VBox(children=(Output(), HBox(children=(Button(button_style='primary', description='Save Cropped', layout=Layo…"
      ]
     },
     "metadata": {},
     "output_type": "display_data"
    }
   ],
   "source": [
    "\n",
    "\n",
    "input_folder = '/Users/rfalcao/Documents/ClearCuspsCroppedRotated'  \n",
    "output_folder = \"/Users/rfalcao/Documents/Separated Clear Cusps\"  \n",
    "os.makedirs(output_folder, exist_ok=True)\n",
    "\n",
    "# Load images\n",
    "image_files = [os.path.join(input_folder, f) for f in os.listdir(input_folder) if f.lower().endswith(('.png', '.jpg', '.tif'))]\n",
    "image_queue = image_files[:]  # Initialize queue with original images\n",
    "\n",
    "output = Output()\n",
    "\n",
    "# Global variables for selected region\n",
    "selected_region = None\n",
    "\n",
    "# Function to display image\n",
    "def update_display(image, title):\n",
    "    global selected_region\n",
    "    selected_region = None  # Reset selected region\n",
    "    with output:\n",
    "        clear_output(wait=True)\n",
    "        fig, ax = plt.subplots(figsize=(10, 10))  # Larger plot size\n",
    "        ax.imshow(image, cmap='gray')\n",
    "        ax.set_title(title)\n",
    "        ax.axis('off')\n",
    "\n",
    "        # Callback function for RectangleSelector\n",
    "        def on_select(eclick, erelease):\n",
    "            global selected_region\n",
    "            x1, y1 = int(eclick.xdata), int(eclick.ydata)\n",
    "            x2, y2 = int(erelease.xdata), int(erelease.ydata)\n",
    "            selected_region = (min(x1, x2), min(y1, y2), abs(x2 - x1), abs(y2 - y1))  # (x, y, width, height)\n",
    "            print(f\"Selected region: {selected_region}\")\n",
    "\n",
    "        # Add RectangleSelector\n",
    "        rs = RectangleSelector(ax, on_select, button=[1], minspanx=5, minspany=5, spancoords='pixels', interactive=True)\n",
    "        plt.connect('key_press_event', rs)\n",
    "        plt.show()\n",
    "        print(\"Draw a box by clicking and dragging on the image.\")\n",
    "\n",
    "# Function to process next image\n",
    "def next_image():\n",
    "    if image_queue:\n",
    "        image_path = image_queue[0]\n",
    "        image = cv2.imread(image_path, cv2.IMREAD_GRAYSCALE)\n",
    "        update_display(image, f\"Inspecting: {os.path.basename(image_path)}\")\n",
    "    else:\n",
    "        with output:\n",
    "            clear_output(wait=True)\n",
    "            print(\"All images processed!\")\n",
    "\n",
    "# Button callbacks\n",
    "def on_save_clicked(b):\n",
    "    global selected_region\n",
    "    if selected_region and image_queue:\n",
    "        image_path = image_queue.pop(0)\n",
    "        image = cv2.imread(image_path, cv2.IMREAD_GRAYSCALE)\n",
    "        x, y, w, h = selected_region\n",
    "        cropped_image = image[y:y+h, x:x+w]  # Extract the selected region\n",
    "        save_path = os.path.join(output_folder, f\"cropped_{os.path.basename(image_path)}\")\n",
    "        cv2.imwrite(save_path, cropped_image)  # Save the cropped image\n",
    "        print(f\"Saved: {save_path}\")\n",
    "        selected_region = None  # Reset selected region\n",
    "    next_image()\n",
    "\n",
    "def on_skip_clicked(b):\n",
    "    if image_queue:\n",
    "        image_queue.pop(0)  # Skip the current image\n",
    "    next_image()\n",
    "\n",
    "# Create buttons\n",
    "save_button = Button(description=\"Save Cropped\", button_style='primary', layout=Layout(width='150px'))\n",
    "skip_button = Button(description=\"Skip\", button_style='warning', layout=Layout(width='150px'))\n",
    "\n",
    "save_button.on_click(on_save_clicked)\n",
    "skip_button.on_click(on_skip_clicked)\n",
    "\n",
    "controls = HBox([save_button, skip_button])\n",
    "display(VBox([output, controls]))\n",
    "\n",
    "# Start processing\n",
    "next_image()"
   ]
  }
 ],
 "metadata": {
  "kernelspec": {
   "display_name": "tf-m2",
   "language": "python",
   "name": "python3"
  },
  "language_info": {
   "codemirror_mode": {
    "name": "ipython",
    "version": 3
   },
   "file_extension": ".py",
   "mimetype": "text/x-python",
   "name": "python",
   "nbconvert_exporter": "python",
   "pygments_lexer": "ipython3",
   "version": "3.10.16"
  }
 },
 "nbformat": 4,
 "nbformat_minor": 2
}
