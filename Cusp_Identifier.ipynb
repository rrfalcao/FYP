{
 "cells": [
  {
   "cell_type": "code",
   "execution_count": 6,
   "metadata": {},
   "outputs": [
    {
     "name": "stderr",
     "output_type": "stream",
     "text": [
      "Matplotlib is building the font cache; this may take a moment.\n"
     ]
    }
   ],
   "source": [
    "import os\n",
    "import glob\n",
    "from PIL import Image\n",
    "\n",
    "import cv2\n",
    "import numpy as np\n",
    "from tqdm import tqdm\n",
    "import matplotlib.pyplot as plt\n",
    "import tensorflow as tf\n",
    "\n",
    "from tensorflow.keras import layers, models\n",
    "from ipywidgets import Button, HBox, VBox, Output, Layout\n",
    "from IPython.display import display, clear_output"
   ]
  },
  {
   "cell_type": "code",
   "execution_count": null,
   "metadata": {},
   "outputs": [],
   "source": [
    "image_folder= '/Users/rfalcao/Documents/Cusp Images - SEM'\n",
    "image_files = sorted(os.listdir(image_folder))\n",
    "image_path = os.path.join(image_folder, image_files[0])"
   ]
  },
  {
   "cell_type": "code",
   "execution_count": 11,
   "metadata": {},
   "outputs": [
    {
     "data": {
      "application/vnd.jupyter.widget-view+json": {
       "model_id": "5f58005aa54e4b5bad0253175146ef0d",
       "version_major": 2,
       "version_minor": 0
      },
      "text/plain": [
       "VBox(children=(Output(), HBox(children=(Button(button_style='success', description='Yes', layout=Layout(width=…"
      ]
     },
     "metadata": {},
     "output_type": "display_data"
    },
    {
     "ename": "IndexError",
     "evalue": "list index out of range",
     "output_type": "error",
     "traceback": [
      "\u001b[0;31m---------------------------------------------------------------------------\u001b[0m",
      "\u001b[0;31mIndexError\u001b[0m                                Traceback (most recent call last)",
      "Cell \u001b[0;32mIn[11], line 48\u001b[0m, in \u001b[0;36mclassify_clear_cusp_images.<locals>.on_save_clicked\u001b[0;34m(b)\u001b[0m\n\u001b[1;32m     46\u001b[0m \u001b[38;5;28;01mdef\u001b[39;00m\u001b[38;5;250m \u001b[39m\u001b[38;5;21mon_save_clicked\u001b[39m(b):\n\u001b[1;32m     47\u001b[0m \u001b[38;5;250m    \u001b[39m\u001b[38;5;124;03m\"\"\"Handles 'Save' button click (move image to output folder).\"\"\"\u001b[39;00m\n\u001b[0;32m---> 48\u001b[0m     filename \u001b[38;5;241m=\u001b[39m \u001b[43mimage_files\u001b[49m\u001b[43m[\u001b[49m\u001b[43mimage_index\u001b[49m\u001b[43m[\u001b[49m\u001b[38;5;241;43m0\u001b[39;49m\u001b[43m]\u001b[49m\u001b[43m]\u001b[49m\n\u001b[1;32m     49\u001b[0m     src_path \u001b[38;5;241m=\u001b[39m os\u001b[38;5;241m.\u001b[39mpath\u001b[38;5;241m.\u001b[39mjoin(image_folder, filename)\n\u001b[1;32m     50\u001b[0m     dst_path \u001b[38;5;241m=\u001b[39m os\u001b[38;5;241m.\u001b[39mpath\u001b[38;5;241m.\u001b[39mjoin(output_folder, filename)\n",
      "\u001b[0;31mIndexError\u001b[0m: list index out of range"
     ]
    }
   ],
   "source": [
    "import os\n",
    "import cv2\n",
    "import numpy as np\n",
    "import shutil\n",
    "import matplotlib.pyplot as plt\n",
    "from ipywidgets import Button, HBox, VBox, Output, Layout\n",
    "from IPython.display import display, clear_output\n",
    "\n",
    "def classify_clear_cusp_images(image_folder, output_folder):\n",
    "    \"\"\"\n",
    "    Iterates through images in a folder, displays them for manual classification\n",
    "    using interactive widgets, and saves selected images with clear cusps.\n",
    "\n",
    "    Parameters:\n",
    "        - image_folder: Folder containing images to classify.\n",
    "        - output_folder: Folder where selected images will be saved.\n",
    "    \"\"\"\n",
    "    if not os.path.exists(output_folder):\n",
    "        os.makedirs(output_folder)\n",
    "\n",
    "    # Get list of image files\n",
    "    image_files = [f for f in os.listdir(image_folder) if f.lower().endswith(('.png', '.jpg', '.tif'))]\n",
    "    image_index = [0]  # Mutable index to track current image\n",
    "\n",
    "    output = Output()\n",
    "\n",
    "    def update_display():\n",
    "        \"\"\"Updates the display to show the current image.\"\"\"\n",
    "        with output:\n",
    "            clear_output(wait=True)\n",
    "            if image_index[0] >= len(image_files):\n",
    "                print(\"Classification complete! Selected images have been saved.\")\n",
    "                return\n",
    "            \n",
    "            # Load and display the current image\n",
    "            filename = image_files[image_index[0]]\n",
    "            image_path = os.path.join(image_folder, filename)\n",
    "            image = cv2.imread(image_path, cv2.IMREAD_GRAYSCALE)\n",
    "\n",
    "            plt.figure(figsize=(6, 6))\n",
    "            plt.title(f\"Does this image have clear cusps? \\nFilename: {filename}\")\n",
    "            plt.imshow(image, cmap='gray')\n",
    "            plt.axis('off')\n",
    "            plt.show()\n",
    "\n",
    "    def on_save_clicked(b):\n",
    "        \"\"\"Handles 'Save' button click (move image to output folder).\"\"\"\n",
    "        filename = image_files[image_index[0]]\n",
    "        src_path = os.path.join(image_folder, filename)\n",
    "        dst_path = os.path.join(output_folder, filename)\n",
    "        shutil.copy(src_path, dst_path)  # Copy the image to the new folder\n",
    "        next_image()\n",
    "\n",
    "    def on_skip_clicked(b):\n",
    "        \"\"\"Handles 'Skip' button click.\"\"\"\n",
    "        next_image()\n",
    "\n",
    "    def next_image():\n",
    "        \"\"\"Moves to the next image or ends classification if all are processed.\"\"\"\n",
    "        image_index[0] += 1\n",
    "        update_display()\n",
    "\n",
    "    # Create buttons\n",
    "    save_button = Button(description=\"Yes\", button_style='success', layout=Layout(width='100px'))\n",
    "    skip_button = Button(description=\"No\", button_style='warning', layout=Layout(width='100px'))\n",
    "\n",
    "    save_button.on_click(on_save_clicked)\n",
    "    skip_button.on_click(on_skip_clicked)\n",
    "\n",
    "    # Display UI\n",
    "    controls = HBox([save_button, skip_button])\n",
    "    display(VBox([output, controls]))\n",
    "\n",
    "    update_display()\n",
    "\n",
    "# Paths\n",
    "image_folder = '/Users/rfalcao/Documents/Cusp Images - SEM'  # Replace with the actual folder\n",
    "output_folder = '/Users/rfalcao/Documents/Clear Cusps'  # Replace with the actual folder\n",
    "\n",
    "# Run the classification\n",
    "classify_clear_cusp_images(image_folder, output_folder)\n"
   ]
  }
 ],
 "metadata": {
  "kernelspec": {
   "display_name": "tf-m2",
   "language": "python",
   "name": "python3"
  },
  "language_info": {
   "codemirror_mode": {
    "name": "ipython",
    "version": 3
   },
   "file_extension": ".py",
   "mimetype": "text/x-python",
   "name": "python",
   "nbconvert_exporter": "python",
   "pygments_lexer": "ipython3",
   "version": "3.10.16"
  }
 },
 "nbformat": 4,
 "nbformat_minor": 2
}
