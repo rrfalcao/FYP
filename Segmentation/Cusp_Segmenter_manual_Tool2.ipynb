{
 "cells": [
  {
   "cell_type": "markdown",
   "metadata": {},
   "source": [
    "Split bounding boxes into new images"
   ]
  },
  {
   "cell_type": "code",
   "execution_count": 4,
   "metadata": {},
   "outputs": [],
   "source": [
    "import cv2\n",
    "import json\n",
    "import os\n",
    "import numpy as np\n",
    "\n",
    "# Load annotations\n",
    "with open(\"/Users/rfalcao/Documents/FYP/Cusp Images_081224/boxes_2.json\") as f:\n",
    "    data = json.load(f)\n",
    "\n",
    "image_dir = \"/Users/rfalcao/Documents/FYP/Cusp Images_081224/Clear\"\n",
    "output_dir = \"/Users/rfalcao/Documents/FYP/Cusp Images_081224/Boxed\"\n",
    "\n",
    "os.makedirs(output_dir, exist_ok=True)\n",
    "\n",
    "for img_info in data[\"images\"]:\n",
    "    img_path = os.path.join(image_dir, img_info[\"file_name\"])\n",
    "    img = cv2.imread(img_path)\n",
    "\n",
    "    if img is None:\n",
    "        print(f\"Could not read image: {img_info['file_name']}\")\n",
    "        continue\n",
    "\n",
    "    for ann in data[\"annotations\"]:\n",
    "        if ann[\"image_id\"] != img_info[\"id\"]:\n",
    "            continue\n",
    "\n",
    "        x, y, w, h = ann[\"bbox\"]\n",
    "        angle = ann[\"attributes\"].get(\"rotation\", 0)\n",
    "\n",
    "        center = (x + w / 2, y + h / 2)\n",
    "\n",
    "        # Get rotation matrix\n",
    "        M = cv2.getRotationMatrix2D(center, angle, 1.0)\n",
    "\n",
    "        # Warp the image (rotate around the bbox center)\n",
    "        rotated = cv2.warpAffine(img, M, (img.shape[1], img.shape[0]), flags=cv2.INTER_CUBIC)\n",
    "\n",
    "        # Now crop the box from the rotated image\n",
    "        x1 = int(center[0] - w / 2)\n",
    "        y1 = int(center[1] - h / 2)\n",
    "        x2 = int(center[0] + w / 2)\n",
    "        y2 = int(center[1] + h / 2)\n",
    "\n",
    "        # Clamp to image boundaries\n",
    "        x1 = max(0, x1)\n",
    "        y1 = max(0, y1)\n",
    "        x2 = min(rotated.shape[1], x2)\n",
    "        y2 = min(rotated.shape[0], y2)\n",
    "\n",
    "        if x2 > x1 and y2 > y1:\n",
    "            cropped = rotated[y1:y2, x1:x2]\n",
    "            save_path = os.path.join(output_dir, f\"cusp_{ann['id']}.png\")\n",
    "            cv2.imwrite(save_path, cropped)\n",
    "        else:\n",
    "            print(f\"Invalid rotated crop for annotation {ann['id']} in {img_info['file_name']}\")\n"
   ]
  },
  {
   "cell_type": "markdown",
   "metadata": {},
   "source": [
    "Separate Images into new categories, assuming you have non cusp examples"
   ]
  },
  {
   "cell_type": "code",
   "execution_count": 5,
   "metadata": {},
   "outputs": [
    {
     "name": "stdout",
     "output_type": "stream",
     "text": [
      "Images sorted successfully!\n"
     ]
    }
   ],
   "source": [
    "import os\n",
    "import json\n",
    "import shutil\n",
    "\n",
    "# Paths\n",
    "image_dir = \"/Users/rfalcao/Documents/FYP/Cusp Images_081224/Boxed\"  # Folder containing all images\n",
    "annotation_file = \"/Users/rfalcao/Documents/FYP/Cusp Images_081224/annotations 4/instances_default.json\"  # Exported JSON file\n",
    "output_dir = \"/Users/rfalcao/Documents/FYP/Cusp Images_081224/annotations 4\"\n",
    "\n",
    "# Create output folders\n",
    "os.makedirs(f\"{output_dir}/cusp_images\", exist_ok=True)\n",
    "os.makedirs(f\"{output_dir}/non_cusp_images\", exist_ok=True)\n",
    "os.makedirs(f\"{output_dir}/unknown_images\", exist_ok=True)\n",
    "\n",
    "# Load annotation file\n",
    "with open(annotation_file) as f:\n",
    "    data = json.load(f)\n",
    "\n",
    "# Get images with annotations\n",
    "annotated_images = {}\n",
    "for ann in data[\"annotations\"]:\n",
    "    img_id = ann[\"image_id\"]\n",
    "    if img_id not in annotated_images:\n",
    "        annotated_images[img_id] = []\n",
    "    annotated_images[img_id].append(ann[\"segmentation\"])\n",
    "\n",
    "# Get image file names\n",
    "image_info = {img[\"id\"]: img[\"file_name\"] for img in data[\"images\"]}\n",
    "\n",
    "# Process each image\n",
    "for img_id, filename in image_info.items():\n",
    "    src_path = os.path.join(image_dir, filename)\n",
    "    if os.path.exists(src_path):\n",
    "        if img_id in annotated_images and annotated_images[img_id]:  # Has annotations\n",
    "            dest_folder = \"cusp_images\"\n",
    "        else:  # No annotations\n",
    "            dest_folder = \"non_cusp_images\"\n",
    "        shutil.move(src_path, os.path.join(output_dir, dest_folder, filename))\n",
    "    else:\n",
    "        print(f\"Warning: {filename} is missing from {image_dir}\")\n",
    "\n",
    "# Move any leftover images (not in JSON)\n",
    "for filename in os.listdir(image_dir):\n",
    "    src_path = os.path.join(image_dir, filename)\n",
    "    dest_path = os.path.join(output_dir, \"unknown_images\", filename)\n",
    "    shutil.move(src_path, dest_path)\n",
    "\n",
    "print(\"Images sorted successfully!\")\n"
   ]
  },
  {
   "cell_type": "code",
   "execution_count": 8,
   "metadata": {},
   "outputs": [
    {
     "name": "stdout",
     "output_type": "stream",
     "text": [
      "loading annotations into memory...\n",
      "Done (t=0.01s)\n",
      "creating index...\n",
      "index created!\n",
      "Skipping cusp_12.png (not found in any folder)\n",
      "Skipping cusp_13.png (not found in any folder)\n",
      "Skipping cusp_14.png (not found in any folder)\n",
      "Skipping cusp_15.png (not found in any folder)\n",
      "Skipping cusp_16.png (not found in any folder)\n",
      "Skipping cusp_17.png (not found in any folder)\n",
      "Skipping cusp_18.png (not found in any folder)\n",
      "Skipping cusp_19.png (not found in any folder)\n"
     ]
    },
    {
     "name": "stderr",
     "output_type": "stream",
     "text": [
      "[ WARN:0@61758.202] global loadsave.cpp:268 findDecoder imread_('/Users/rfalcao/Documents/FYPCusp Images_081224/annotations 4/non_cusp_images/cusp_12.png'): can't open/read file: check file path/integrity\n",
      "[ WARN:0@61758.203] global loadsave.cpp:268 findDecoder imread_('/Users/rfalcao/Documents/FYPCusp Images_081224/annotations 4/non_cusp_images/cusp_13.png'): can't open/read file: check file path/integrity\n",
      "[ WARN:0@61758.203] global loadsave.cpp:268 findDecoder imread_('/Users/rfalcao/Documents/FYPCusp Images_081224/annotations 4/non_cusp_images/cusp_14.png'): can't open/read file: check file path/integrity\n",
      "[ WARN:0@61758.204] global loadsave.cpp:268 findDecoder imread_('/Users/rfalcao/Documents/FYPCusp Images_081224/annotations 4/non_cusp_images/cusp_15.png'): can't open/read file: check file path/integrity\n",
      "[ WARN:0@61758.204] global loadsave.cpp:268 findDecoder imread_('/Users/rfalcao/Documents/FYPCusp Images_081224/annotations 4/non_cusp_images/cusp_16.png'): can't open/read file: check file path/integrity\n",
      "[ WARN:0@61758.204] global loadsave.cpp:268 findDecoder imread_('/Users/rfalcao/Documents/FYPCusp Images_081224/annotations 4/non_cusp_images/cusp_17.png'): can't open/read file: check file path/integrity\n",
      "[ WARN:0@61758.204] global loadsave.cpp:268 findDecoder imread_('/Users/rfalcao/Documents/FYPCusp Images_081224/annotations 4/non_cusp_images/cusp_18.png'): can't open/read file: check file path/integrity\n",
      "[ WARN:0@61758.204] global loadsave.cpp:268 findDecoder imread_('/Users/rfalcao/Documents/FYPCusp Images_081224/annotations 4/non_cusp_images/cusp_19.png'): can't open/read file: check file path/integrity\n"
     ]
    },
    {
     "name": "stdout",
     "output_type": "stream",
     "text": [
      "Skipping cusp_20.png (not found in any folder)\n",
      "Skipping cusp_21.png (not found in any folder)\n"
     ]
    },
    {
     "name": "stderr",
     "output_type": "stream",
     "text": [
      "[ WARN:0@61758.872] global loadsave.cpp:268 findDecoder imread_('/Users/rfalcao/Documents/FYPCusp Images_081224/annotations 4/non_cusp_images/cusp_20.png'): can't open/read file: check file path/integrity\n",
      "[ WARN:0@61758.874] global loadsave.cpp:268 findDecoder imread_('/Users/rfalcao/Documents/FYPCusp Images_081224/annotations 4/non_cusp_images/cusp_21.png'): can't open/read file: check file path/integrity\n"
     ]
    },
    {
     "name": "stdout",
     "output_type": "stream",
     "text": [
      "Skipping cusp_24.png (not found in any folder)\n",
      "Skipping cusp_25.png (not found in any folder)\n"
     ]
    },
    {
     "name": "stderr",
     "output_type": "stream",
     "text": [
      "[ WARN:0@61761.061] global loadsave.cpp:268 findDecoder imread_('/Users/rfalcao/Documents/FYPCusp Images_081224/annotations 4/non_cusp_images/cusp_24.png'): can't open/read file: check file path/integrity\n",
      "[ WARN:0@61761.063] global loadsave.cpp:268 findDecoder imread_('/Users/rfalcao/Documents/FYPCusp Images_081224/annotations 4/non_cusp_images/cusp_25.png'): can't open/read file: check file path/integrity\n"
     ]
    },
    {
     "name": "stdout",
     "output_type": "stream",
     "text": [
      "Skipping cusp_3.png (not found in any folder)\n"
     ]
    },
    {
     "name": "stderr",
     "output_type": "stream",
     "text": [
      "[ WARN:0@61763.312] global loadsave.cpp:268 findDecoder imread_('/Users/rfalcao/Documents/FYPCusp Images_081224/annotations 4/non_cusp_images/cusp_3.png'): can't open/read file: check file path/integrity\n"
     ]
    },
    {
     "name": "stdout",
     "output_type": "stream",
     "text": [
      "Skipping cusp_31.png (not found in any folder)\n",
      "Skipping cusp_32.png (not found in any folder)\n",
      "Skipping cusp_34.png (not found in any folder)\n",
      "Skipping cusp_35.png (not found in any folder)\n",
      "Skipping cusp_36.png (not found in any folder)\n",
      "Skipping cusp_37.png (not found in any folder)\n",
      "Skipping cusp_38.png (not found in any folder)\n",
      "Skipping cusp_39.png (not found in any folder)\n",
      "Skipping cusp_4.png (not found in any folder)\n",
      "Skipping cusp_40.png (not found in any folder)\n"
     ]
    },
    {
     "name": "stderr",
     "output_type": "stream",
     "text": [
      "[ WARN:0@61764.233] global loadsave.cpp:268 findDecoder imread_('/Users/rfalcao/Documents/FYPCusp Images_081224/annotations 4/non_cusp_images/cusp_31.png'): can't open/read file: check file path/integrity\n",
      "[ WARN:0@61764.234] global loadsave.cpp:268 findDecoder imread_('/Users/rfalcao/Documents/FYPCusp Images_081224/annotations 4/non_cusp_images/cusp_32.png'): can't open/read file: check file path/integrity\n",
      "[ WARN:0@61764.258] global loadsave.cpp:268 findDecoder imread_('/Users/rfalcao/Documents/FYPCusp Images_081224/annotations 4/non_cusp_images/cusp_34.png'): can't open/read file: check file path/integrity\n",
      "[ WARN:0@61764.259] global loadsave.cpp:268 findDecoder imread_('/Users/rfalcao/Documents/FYPCusp Images_081224/annotations 4/non_cusp_images/cusp_35.png'): can't open/read file: check file path/integrity\n",
      "[ WARN:0@61764.259] global loadsave.cpp:268 findDecoder imread_('/Users/rfalcao/Documents/FYPCusp Images_081224/annotations 4/non_cusp_images/cusp_36.png'): can't open/read file: check file path/integrity\n",
      "[ WARN:0@61764.259] global loadsave.cpp:268 findDecoder imread_('/Users/rfalcao/Documents/FYPCusp Images_081224/annotations 4/non_cusp_images/cusp_37.png'): can't open/read file: check file path/integrity\n",
      "[ WARN:0@61764.259] global loadsave.cpp:268 findDecoder imread_('/Users/rfalcao/Documents/FYPCusp Images_081224/annotations 4/non_cusp_images/cusp_38.png'): can't open/read file: check file path/integrity\n",
      "[ WARN:0@61764.259] global loadsave.cpp:268 findDecoder imread_('/Users/rfalcao/Documents/FYPCusp Images_081224/annotations 4/non_cusp_images/cusp_39.png'): can't open/read file: check file path/integrity\n",
      "[ WARN:0@61764.259] global loadsave.cpp:268 findDecoder imread_('/Users/rfalcao/Documents/FYPCusp Images_081224/annotations 4/non_cusp_images/cusp_4.png'): can't open/read file: check file path/integrity\n",
      "[ WARN:0@61764.259] global loadsave.cpp:268 findDecoder imread_('/Users/rfalcao/Documents/FYPCusp Images_081224/annotations 4/non_cusp_images/cusp_40.png'): can't open/read file: check file path/integrity\n"
     ]
    },
    {
     "name": "stdout",
     "output_type": "stream",
     "text": [
      "Skipping cusp_42.png (not found in any folder)\n",
      "Skipping cusp_43.png (not found in any folder)\n",
      "Skipping cusp_44.png (not found in any folder)\n",
      "Skipping cusp_45.png (not found in any folder)\n",
      "Skipping cusp_46.png (not found in any folder)\n",
      "Skipping cusp_47.png (not found in any folder)\n"
     ]
    },
    {
     "name": "stderr",
     "output_type": "stream",
     "text": [
      "[ WARN:0@61765.468] global loadsave.cpp:268 findDecoder imread_('/Users/rfalcao/Documents/FYPCusp Images_081224/annotations 4/non_cusp_images/cusp_42.png'): can't open/read file: check file path/integrity\n",
      "[ WARN:0@61765.469] global loadsave.cpp:268 findDecoder imread_('/Users/rfalcao/Documents/FYPCusp Images_081224/annotations 4/non_cusp_images/cusp_43.png'): can't open/read file: check file path/integrity\n",
      "[ WARN:0@61765.469] global loadsave.cpp:268 findDecoder imread_('/Users/rfalcao/Documents/FYPCusp Images_081224/annotations 4/non_cusp_images/cusp_44.png'): can't open/read file: check file path/integrity\n",
      "[ WARN:0@61765.469] global loadsave.cpp:268 findDecoder imread_('/Users/rfalcao/Documents/FYPCusp Images_081224/annotations 4/non_cusp_images/cusp_45.png'): can't open/read file: check file path/integrity\n",
      "[ WARN:0@61765.469] global loadsave.cpp:268 findDecoder imread_('/Users/rfalcao/Documents/FYPCusp Images_081224/annotations 4/non_cusp_images/cusp_46.png'): can't open/read file: check file path/integrity\n",
      "[ WARN:0@61765.469] global loadsave.cpp:268 findDecoder imread_('/Users/rfalcao/Documents/FYPCusp Images_081224/annotations 4/non_cusp_images/cusp_47.png'): can't open/read file: check file path/integrity\n"
     ]
    },
    {
     "name": "stdout",
     "output_type": "stream",
     "text": [
      "Skipping cusp_5.png (not found in any folder)\n",
      "Skipping cusp_50.png (not found in any folder)\n",
      "Skipping cusp_51.png (not found in any folder)\n",
      "Skipping cusp_52.png (not found in any folder)\n",
      "Skipping cusp_53.png (not found in any folder)\n",
      "Skipping cusp_54.png (not found in any folder)\n",
      "Skipping cusp_55.png (not found in any folder)\n",
      "Skipping cusp_56.png (not found in any folder)\n",
      "Skipping cusp_57.png (not found in any folder)\n",
      "Skipping cusp_58.png (not found in any folder)\n",
      "Skipping cusp_59.png (not found in any folder)\n",
      "Skipping cusp_6.png (not found in any folder)\n",
      "Skipping cusp_60.png (not found in any folder)\n",
      "Skipping cusp_61.png (not found in any folder)\n",
      "Skipping cusp_62.png (not found in any folder)\n",
      "Skipping cusp_63.png (not found in any folder)\n",
      "Skipping cusp_64.png (not found in any folder)\n",
      "Skipping cusp_65.png (not found in any folder)\n",
      "Skipping cusp_66.png (not found in any folder)\n",
      "Skipping cusp_67.png (not found in any folder)\n",
      "Skipping cusp_68.png (not found in any folder)\n",
      "Skipping cusp_69.png (not found in any folder)\n",
      "Skipping cusp_7.png (not found in any folder)\n",
      "Skipping cusp_70.png (not found in any folder)\n",
      "Skipping cusp_71.png (not found in any folder)\n",
      "Skipping cusp_72.png (not found in any folder)\n",
      "Skipping cusp_73.png (not found in any folder)\n"
     ]
    },
    {
     "name": "stderr",
     "output_type": "stream",
     "text": [
      "[ WARN:0@61766.084] global loadsave.cpp:268 findDecoder imread_('/Users/rfalcao/Documents/FYPCusp Images_081224/annotations 4/non_cusp_images/cusp_5.png'): can't open/read file: check file path/integrity\n",
      "[ WARN:0@61766.084] global loadsave.cpp:268 findDecoder imread_('/Users/rfalcao/Documents/FYPCusp Images_081224/annotations 4/non_cusp_images/cusp_50.png'): can't open/read file: check file path/integrity\n",
      "[ WARN:0@61766.084] global loadsave.cpp:268 findDecoder imread_('/Users/rfalcao/Documents/FYPCusp Images_081224/annotations 4/non_cusp_images/cusp_51.png'): can't open/read file: check file path/integrity\n",
      "[ WARN:0@61766.084] global loadsave.cpp:268 findDecoder imread_('/Users/rfalcao/Documents/FYPCusp Images_081224/annotations 4/non_cusp_images/cusp_52.png'): can't open/read file: check file path/integrity\n",
      "[ WARN:0@61766.084] global loadsave.cpp:268 findDecoder imread_('/Users/rfalcao/Documents/FYPCusp Images_081224/annotations 4/non_cusp_images/cusp_53.png'): can't open/read file: check file path/integrity\n",
      "[ WARN:0@61766.084] global loadsave.cpp:268 findDecoder imread_('/Users/rfalcao/Documents/FYPCusp Images_081224/annotations 4/non_cusp_images/cusp_54.png'): can't open/read file: check file path/integrity\n",
      "[ WARN:0@61766.084] global loadsave.cpp:268 findDecoder imread_('/Users/rfalcao/Documents/FYPCusp Images_081224/annotations 4/non_cusp_images/cusp_55.png'): can't open/read file: check file path/integrity\n",
      "[ WARN:0@61766.084] global loadsave.cpp:268 findDecoder imread_('/Users/rfalcao/Documents/FYPCusp Images_081224/annotations 4/non_cusp_images/cusp_56.png'): can't open/read file: check file path/integrity\n",
      "[ WARN:0@61766.084] global loadsave.cpp:268 findDecoder imread_('/Users/rfalcao/Documents/FYPCusp Images_081224/annotations 4/non_cusp_images/cusp_57.png'): can't open/read file: check file path/integrity\n",
      "[ WARN:0@61766.084] global loadsave.cpp:268 findDecoder imread_('/Users/rfalcao/Documents/FYPCusp Images_081224/annotations 4/non_cusp_images/cusp_58.png'): can't open/read file: check file path/integrity\n",
      "[ WARN:0@61766.085] global loadsave.cpp:268 findDecoder imread_('/Users/rfalcao/Documents/FYPCusp Images_081224/annotations 4/non_cusp_images/cusp_59.png'): can't open/read file: check file path/integrity\n",
      "[ WARN:0@61766.085] global loadsave.cpp:268 findDecoder imread_('/Users/rfalcao/Documents/FYPCusp Images_081224/annotations 4/non_cusp_images/cusp_6.png'): can't open/read file: check file path/integrity\n",
      "[ WARN:0@61766.085] global loadsave.cpp:268 findDecoder imread_('/Users/rfalcao/Documents/FYPCusp Images_081224/annotations 4/non_cusp_images/cusp_60.png'): can't open/read file: check file path/integrity\n",
      "[ WARN:0@61766.085] global loadsave.cpp:268 findDecoder imread_('/Users/rfalcao/Documents/FYPCusp Images_081224/annotations 4/non_cusp_images/cusp_61.png'): can't open/read file: check file path/integrity\n",
      "[ WARN:0@61766.085] global loadsave.cpp:268 findDecoder imread_('/Users/rfalcao/Documents/FYPCusp Images_081224/annotations 4/non_cusp_images/cusp_62.png'): can't open/read file: check file path/integrity\n",
      "[ WARN:0@61766.085] global loadsave.cpp:268 findDecoder imread_('/Users/rfalcao/Documents/FYPCusp Images_081224/annotations 4/non_cusp_images/cusp_63.png'): can't open/read file: check file path/integrity\n",
      "[ WARN:0@61766.085] global loadsave.cpp:268 findDecoder imread_('/Users/rfalcao/Documents/FYPCusp Images_081224/annotations 4/non_cusp_images/cusp_64.png'): can't open/read file: check file path/integrity\n",
      "[ WARN:0@61766.085] global loadsave.cpp:268 findDecoder imread_('/Users/rfalcao/Documents/FYPCusp Images_081224/annotations 4/non_cusp_images/cusp_65.png'): can't open/read file: check file path/integrity\n",
      "[ WARN:0@61766.085] global loadsave.cpp:268 findDecoder imread_('/Users/rfalcao/Documents/FYPCusp Images_081224/annotations 4/non_cusp_images/cusp_66.png'): can't open/read file: check file path/integrity\n",
      "[ WARN:0@61766.085] global loadsave.cpp:268 findDecoder imread_('/Users/rfalcao/Documents/FYPCusp Images_081224/annotations 4/non_cusp_images/cusp_67.png'): can't open/read file: check file path/integrity\n",
      "[ WARN:0@61766.085] global loadsave.cpp:268 findDecoder imread_('/Users/rfalcao/Documents/FYPCusp Images_081224/annotations 4/non_cusp_images/cusp_68.png'): can't open/read file: check file path/integrity\n",
      "[ WARN:0@61766.085] global loadsave.cpp:268 findDecoder imread_('/Users/rfalcao/Documents/FYPCusp Images_081224/annotations 4/non_cusp_images/cusp_69.png'): can't open/read file: check file path/integrity\n",
      "[ WARN:0@61766.085] global loadsave.cpp:268 findDecoder imread_('/Users/rfalcao/Documents/FYPCusp Images_081224/annotations 4/non_cusp_images/cusp_7.png'): can't open/read file: check file path/integrity\n",
      "[ WARN:0@61766.085] global loadsave.cpp:268 findDecoder imread_('/Users/rfalcao/Documents/FYPCusp Images_081224/annotations 4/non_cusp_images/cusp_70.png'): can't open/read file: check file path/integrity\n",
      "[ WARN:0@61766.085] global loadsave.cpp:268 findDecoder imread_('/Users/rfalcao/Documents/FYPCusp Images_081224/annotations 4/non_cusp_images/cusp_71.png'): can't open/read file: check file path/integrity\n",
      "[ WARN:0@61766.085] global loadsave.cpp:268 findDecoder imread_('/Users/rfalcao/Documents/FYPCusp Images_081224/annotations 4/non_cusp_images/cusp_72.png'): can't open/read file: check file path/integrity\n",
      "[ WARN:0@61766.085] global loadsave.cpp:268 findDecoder imread_('/Users/rfalcao/Documents/FYPCusp Images_081224/annotations 4/non_cusp_images/cusp_73.png'): can't open/read file: check file path/integrity\n"
     ]
    },
    {
     "name": "stdout",
     "output_type": "stream",
     "text": [
      "Skipping cusp_79.png (not found in any folder)\n",
      "Skipping cusp_8.png (not found in any folder)\n",
      "Skipping cusp_80.png (not found in any folder)\n",
      "Skipping cusp_82.png (not found in any folder)\n",
      "Skipping cusp_9.png (not found in any folder)\n",
      "✅ Masks extracted and saved as PNGs!\n"
     ]
    },
    {
     "name": "stderr",
     "output_type": "stream",
     "text": [
      "[ WARN:0@61767.149] global loadsave.cpp:268 findDecoder imread_('/Users/rfalcao/Documents/FYPCusp Images_081224/annotations 4/non_cusp_images/cusp_79.png'): can't open/read file: check file path/integrity\n",
      "[ WARN:0@61767.150] global loadsave.cpp:268 findDecoder imread_('/Users/rfalcao/Documents/FYPCusp Images_081224/annotations 4/non_cusp_images/cusp_8.png'): can't open/read file: check file path/integrity\n",
      "[ WARN:0@61767.150] global loadsave.cpp:268 findDecoder imread_('/Users/rfalcao/Documents/FYPCusp Images_081224/annotations 4/non_cusp_images/cusp_80.png'): can't open/read file: check file path/integrity\n",
      "[ WARN:0@61767.156] global loadsave.cpp:268 findDecoder imread_('/Users/rfalcao/Documents/FYPCusp Images_081224/annotations 4/non_cusp_images/cusp_82.png'): can't open/read file: check file path/integrity\n",
      "[ WARN:0@61767.177] global loadsave.cpp:268 findDecoder imread_('/Users/rfalcao/Documents/FYPCusp Images_081224/annotations 4/non_cusp_images/cusp_9.png'): can't open/read file: check file path/integrity\n"
     ]
    }
   ],
   "source": [
    "from pycocotools.coco import COCO\n",
    "import numpy as np\n",
    "import cv2\n",
    "import os\n",
    "\n",
    "# Paths\n",
    "annotation_file = \"/Users/rfalcao/Documents/FYP/Cusp Images_081224/annotations 4/instances_default.json\"\n",
    "image_dir = \"/Users/rfalcao/Documents/FYP/Cusp Images_081224/annotations 4/cusp_images\"\n",
    "mask_output_dir = \"/Users/rfalcao/Documents/FYP/Cusp Images_081224/annotations 4/masks\"\n",
    "untagged_image_dir = \"/Users/rfalcao/Documents/FYPCusp Images_081224/annotations 4/non_cusp_images\"\n",
    "\n",
    "os.makedirs(mask_output_dir, exist_ok=True)\n",
    "\n",
    "# Load COCO JSON\n",
    "coco = COCO(annotation_file)\n",
    "\n",
    "# Process images\n",
    "for img_id in coco.getImgIds():\n",
    "    img_info = coco.loadImgs(img_id)[0]\n",
    "    img_filename = img_info[\"file_name\"]\n",
    "\n",
    "    # Ensure proper mask filename (change .jpg to .png)\n",
    "    mask_filename = img_filename\n",
    "    mask_filepath = os.path.join(mask_output_dir, mask_filename)\n",
    "\n",
    "    # Try loading from cusp images folder\n",
    "    img_path = os.path.join(image_dir, img_filename)\n",
    "    if not os.path.exists(img_path):\n",
    "        img_path = os.path.join(untagged_image_dir, img_filename)\n",
    "\n",
    "    img = cv2.imread(img_path, cv2.IMREAD_GRAYSCALE)\n",
    "\n",
    "    # Skip missing images\n",
    "    if img is None:\n",
    "        print(f\"Skipping {img_filename} (not found in any folder)\")\n",
    "        continue\n",
    "\n",
    "    # Create an empty mask\n",
    "    mask = np.zeros(img.shape, dtype=np.uint8)\n",
    "\n",
    "    # Get annotations (if any)\n",
    "    ann_ids = coco.getAnnIds(imgIds=img_id)\n",
    "    if ann_ids:\n",
    "        anns = coco.loadAnns(ann_ids)\n",
    "        for ann in anns:\n",
    "            segmentation = ann[\"segmentation\"]\n",
    "            for seg in segmentation:\n",
    "                points = np.array(seg, dtype=np.int32).reshape(-1, 2)\n",
    "                cv2.fillPoly(mask, [points], 255)  # Fill the polygon mask\n",
    "\n",
    "    # Save mask as PNG (lossless format)\n",
    "    cv2.imwrite(mask_filepath, mask)\n",
    "\n",
    "print(\"✅ Masks extracted and saved as PNGs!\")\n",
    "\n"
   ]
  },
  {
   "cell_type": "code",
   "execution_count": null,
   "metadata": {},
   "outputs": [],
   "source": [
    "import os\n",
    "import cv2\n",
    "import numpy as np\n",
    "\n",
    "# Paths\n",
    "\n",
    "padded_image_dir = \"/Users/rfalcao/Documents/FYP/ManualSegmentationAnns/padded/images\"\n",
    "padded_mask_dir = \"/Users/rfalcao/Documents/FYP/ManualSegmentationAnns/padded/masks\"\n",
    "\n",
    "image_dir = \"/Users/rfalcao/Documents/FYP/ManualSegmentationAnns/cusp_images\"\n",
    "mask_dir = \"/Users/rfalcao/Documents/FYP/ManualSegmentationAnns/masks\"\n",
    "\n",
    "os.makedirs(padded_image_dir, exist_ok=True)\n",
    "os.makedirs(padded_mask_dir, exist_ok=True)\n",
    "\n",
    "# Step 1: Find max width & height in dataset\n",
    "max_width, max_height = 0, 0\n",
    "for filename in os.listdir(image_dir):\n",
    "    img_path = os.path.join(image_dir, filename)\n",
    "    img = cv2.imread(img_path, cv2.IMREAD_GRAYSCALE)\n",
    "    if img is not None:\n",
    "        h, w = img.shape\n",
    "        max_width = max(max_width, w)\n",
    "        max_height = max(max_height, h)\n",
    "\n",
    "print(f\"Max dimensions for padding: {max_width}x{max_height}\")\n",
    "\n",
    "# Step 2: Pad each image & mask\n",
    "for filename in os.listdir(image_dir):\n",
    "    img_path = os.path.join(image_dir, filename)\n",
    "    mask_path = os.path.join(mask_dir, filename)\n",
    "\n",
    "    img = cv2.imread(img_path, cv2.IMREAD_GRAYSCALE)\n",
    "    mask = cv2.imread(mask_path, cv2.IMREAD_GRAYSCALE)\n",
    "\n",
    "    if img is None or mask is None:\n",
    "        print(f\"Skipping {filename} (missing image or mask)\")\n",
    "        continue\n",
    "\n",
    "    h, w = img.shape\n",
    "    pad_top = (max_height - h) // 2\n",
    "    pad_bottom = max_height - h - pad_top\n",
    "    pad_left = (max_width - w) // 2\n",
    "    pad_right = max_width - w - pad_left\n",
    "\n",
    "    # Apply same padding to image and mask\n",
    "    padded_img = cv2.copyMakeBorder(img, pad_top, pad_bottom, pad_left, pad_right, cv2.BORDER_CONSTANT, value=0)\n",
    "    padded_mask = cv2.copyMakeBorder(mask, pad_top, pad_bottom, pad_left, pad_right, cv2.BORDER_CONSTANT, value=0)\n",
    "\n",
    "    # Save results\n",
    "    cv2.imwrite(os.path.join(padded_image_dir, filename), padded_img)\n",
    "    cv2.imwrite(os.path.join(padded_mask_dir, filename), padded_mask)\n",
    "\n",
    "print(\"✅ Padding complete! All cusp images and masks are now the same size.\")\n"
   ]
  },
  {
   "cell_type": "code",
   "execution_count": null,
   "metadata": {},
   "outputs": [],
   "source": []
  },
  {
   "cell_type": "code",
   "execution_count": null,
   "metadata": {},
   "outputs": [],
   "source": []
  }
 ],
 "metadata": {
  "kernelspec": {
   "display_name": "tf-m2",
   "language": "python",
   "name": "python3"
  },
  "language_info": {
   "codemirror_mode": {
    "name": "ipython",
    "version": 3
   },
   "file_extension": ".py",
   "mimetype": "text/x-python",
   "name": "python",
   "nbconvert_exporter": "python",
   "pygments_lexer": "ipython3",
   "version": "3.10.16"
  }
 },
 "nbformat": 4,
 "nbformat_minor": 2
}
