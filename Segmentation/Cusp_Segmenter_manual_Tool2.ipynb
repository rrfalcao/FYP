{
 "cells": [
  {
   "cell_type": "markdown",
   "metadata": {},
   "source": [
    "Split bounding boxes into new images"
   ]
  },
  {
   "cell_type": "code",
   "execution_count": 5,
   "metadata": {},
   "outputs": [],
   "source": [
    "import cv2\n",
    "import json\n",
    "import os\n",
    "\n",
    "# Load annotations\n",
    "with open(\"Manual_Cusp_Boxes.json\") as f:\n",
    "    data = json.load(f)\n",
    "\n",
    "image_dir = \"/Users/rfalcao/Documents/FYP/ClearCuspsCroppedRotated\"\n",
    "output_dir = \"/Users/rfalcao/Documents/FYP/ManualSegmentation\"\n",
    "\n",
    "os.makedirs(output_dir, exist_ok=True)\n",
    "\n",
    "# Process each image\n",
    "for img_info in data[\"images\"]:\n",
    "    img_path = os.path.join(image_dir, img_info[\"file_name\"])\n",
    "    img = cv2.imread(img_path)\n",
    "    # Find annotations for this image\n",
    "    for ann in data[\"annotations\"]:\n",
    "        if ann[\"image_id\"] == img_info[\"id\"]:\n",
    "            x, y, w, h = ann[\"bbox\"]  # COCO format: x, y, width, height\n",
    "            cropped = img[int(y):int(y+h), int(x):int(x+w)]\n",
    "            \n",
    "            # Save cropped region\n",
    "            save_path = os.path.join(output_dir, f\"cusp_{ann['id']}.jpg\")\n",
    "            cv2.imwrite(save_path, cropped)\n"
   ]
  },
  {
   "cell_type": "markdown",
   "metadata": {},
   "source": [
    "Separate Images into new categories"
   ]
  },
  {
   "cell_type": "code",
   "execution_count": 2,
   "metadata": {},
   "outputs": [
    {
     "name": "stdout",
     "output_type": "stream",
     "text": [
      "Images sorted successfully!\n"
     ]
    }
   ],
   "source": [
    "import os\n",
    "import json\n",
    "import shutil\n",
    "\n",
    "# Paths\n",
    "image_dir = \"/Users/rfalcao/Documents/FYP/ManualSegmentation\"  # Folder containing all images\n",
    "annotation_file = \"/Users/rfalcao/Documents/FYP/ManualSegmentationAnns/instances_default.json\"  # Exported JSON file\n",
    "output_dir = \"/Users/rfalcao/Documents/FYP/ManualSegmentationAnns\"\n",
    "\n",
    "# Create output folders\n",
    "os.makedirs(f\"{output_dir}/cusp_images\", exist_ok=True)\n",
    "os.makedirs(f\"{output_dir}/non_cusp_images\", exist_ok=True)\n",
    "os.makedirs(f\"{output_dir}/unknown_images\", exist_ok=True)\n",
    "\n",
    "# Load annotation file\n",
    "with open(annotation_file) as f:\n",
    "    data = json.load(f)\n",
    "\n",
    "# Get images with annotations\n",
    "annotated_images = {}\n",
    "for ann in data[\"annotations\"]:\n",
    "    img_id = ann[\"image_id\"]\n",
    "    if img_id not in annotated_images:\n",
    "        annotated_images[img_id] = []\n",
    "    annotated_images[img_id].append(ann[\"segmentation\"])\n",
    "\n",
    "# Get image file names\n",
    "image_info = {img[\"id\"]: img[\"file_name\"] for img in data[\"images\"]}\n",
    "\n",
    "# Process each image\n",
    "for img_id, filename in image_info.items():\n",
    "    src_path = os.path.join(image_dir, filename)\n",
    "    if os.path.exists(src_path):\n",
    "        if img_id in annotated_images and annotated_images[img_id]:  # Has annotations\n",
    "            dest_folder = \"cusp_images\"\n",
    "        else:  # No annotations\n",
    "            dest_folder = \"non_cusp_images\"\n",
    "        shutil.move(src_path, os.path.join(output_dir, dest_folder, filename))\n",
    "    else:\n",
    "        print(f\"Warning: {filename} is missing from {image_dir}\")\n",
    "\n",
    "# Move any leftover images (not in JSON)\n",
    "for filename in os.listdir(image_dir):\n",
    "    src_path = os.path.join(image_dir, filename)\n",
    "    dest_path = os.path.join(output_dir, \"unknown_images\", filename)\n",
    "    shutil.move(src_path, dest_path)\n",
    "\n",
    "print(\"Images sorted successfully!\")\n"
   ]
  },
  {
   "cell_type": "code",
   "execution_count": 8,
   "metadata": {},
   "outputs": [
    {
     "name": "stdout",
     "output_type": "stream",
     "text": [
      "loading annotations into memory...\n",
      "Done (t=0.06s)\n",
      "creating index...\n",
      "index created!\n",
      "Masks extracted and saved!\n"
     ]
    }
   ],
   "source": [
    "from pycocotools.coco import COCO\n",
    "import numpy as np\n",
    "import cv2\n",
    "import os\n",
    "\n",
    "# Paths\n",
    "annotation_file = \"/Users/rfalcao/Documents/FYP/ManualSegmentationAnns/instances_default.json\"\n",
    "image_dir = \"/Users/rfalcao/Documents/FYP/ManualSegmentationAnns/cusp_images\"\n",
    "mask_output_dir = \"/Users/rfalcao/Documents/FYP/ManualSegmentationAnns/masks\"\n",
    "untagged_image_dir = \"/Users/rfalcao/Documents/FYP/ManualSegmentationAnns/non_cusp_images\"\n",
    "\n",
    "os.makedirs(mask_output_dir, exist_ok=True)\n",
    "\n",
    "# Load COCO JSON\n",
    "coco = COCO(annotation_file)\n",
    "\n",
    "# Process images\n",
    "for img_id in coco.getImgIds():\n",
    "    img_info = coco.loadImgs(img_id)[0]\n",
    "    img_filename = img_info[\"file_name\"]\n",
    "\n",
    "    # Try loading from cusp images folder\n",
    "    img_path = os.path.join(image_dir, img_filename)\n",
    "    if not os.path.exists(img_path):\n",
    "        # If not found, check no-cusp images folder\n",
    "        img_path = os.path.join(untagged_image_dir, img_filename)\n",
    "\n",
    "    img = cv2.imread(img_path, cv2.IMREAD_GRAYSCALE)\n",
    "\n",
    "    # Skip missing images\n",
    "    if img is None:\n",
    "        print(f\"Skipping {img_filename} (not found in any folder)\")\n",
    "        continue\n",
    "\n",
    "    # Create an empty mask\n",
    "    mask = np.zeros(img.shape, dtype=np.uint8)\n",
    "\n",
    "    # Get annotations (if any)\n",
    "    ann_ids = coco.getAnnIds(imgIds=img_id)\n",
    "    if ann_ids:\n",
    "        anns = coco.loadAnns(ann_ids)\n",
    "        for ann in anns:\n",
    "            segmentation = ann[\"segmentation\"]\n",
    "            for seg in segmentation:\n",
    "                points = np.array(seg, dtype=np.int32).reshape(-1, 2)\n",
    "                cv2.fillPoly(mask, [points], 255)  # Fill the polygon mask\n",
    "\n",
    "    # Save the mask (even if empty, for no-cusp cases)\n",
    "    mask_filename = os.path.join(mask_output_dir, img_filename)\n",
    "    cv2.imwrite(mask_filename, mask)\n",
    "\n",
    "print(\"Masks extracted and saved!\")\n"
   ]
  },
  {
   "cell_type": "code",
   "execution_count": 9,
   "metadata": {},
   "outputs": [
    {
     "name": "stdout",
     "output_type": "stream",
     "text": [
      "Max dimensions for padding: 870x851\n",
      "✅ Padding complete! All cusp images and masks are now the same size.\n"
     ]
    }
   ],
   "source": [
    "import os\n",
    "import cv2\n",
    "import numpy as np\n",
    "\n",
    "# Paths\n",
    "\n",
    "padded_image_dir = \"/Users/rfalcao/Documents/FYP/ManualSegmentationAnns/padded/images\"\n",
    "padded_mask_dir = \"/Users/rfalcao/Documents/FYP/ManualSegmentationAnns/padded/masks\"\n",
    "\n",
    "image_dir = \"/Users/rfalcao/Documents/FYP/ManualSegmentationAnns/cusp_images\"\n",
    "mask_dir = \"/Users/rfalcao/Documents/FYP/ManualSegmentationAnns/masks\"\n",
    "\n",
    "os.makedirs(padded_image_dir, exist_ok=True)\n",
    "os.makedirs(padded_mask_dir, exist_ok=True)\n",
    "\n",
    "# Step 1: Find max width & height in dataset\n",
    "max_width, max_height = 0, 0\n",
    "for filename in os.listdir(image_dir):\n",
    "    img_path = os.path.join(image_dir, filename)\n",
    "    img = cv2.imread(img_path, cv2.IMREAD_GRAYSCALE)\n",
    "    if img is not None:\n",
    "        h, w = img.shape\n",
    "        max_width = max(max_width, w)\n",
    "        max_height = max(max_height, h)\n",
    "\n",
    "print(f\"Max dimensions for padding: {max_width}x{max_height}\")\n",
    "\n",
    "# Step 2: Pad each image & mask\n",
    "for filename in os.listdir(image_dir):\n",
    "    img_path = os.path.join(image_dir, filename)\n",
    "    mask_path = os.path.join(mask_dir, filename)\n",
    "\n",
    "    img = cv2.imread(img_path, cv2.IMREAD_GRAYSCALE)\n",
    "    mask = cv2.imread(mask_path, cv2.IMREAD_GRAYSCALE)\n",
    "\n",
    "    if img is None or mask is None:\n",
    "        print(f\"Skipping {filename} (missing image or mask)\")\n",
    "        continue\n",
    "\n",
    "    h, w = img.shape\n",
    "    pad_top = (max_height - h) // 2\n",
    "    pad_bottom = max_height - h - pad_top\n",
    "    pad_left = (max_width - w) // 2\n",
    "    pad_right = max_width - w - pad_left\n",
    "\n",
    "    # Apply same padding to image and mask\n",
    "    padded_img = cv2.copyMakeBorder(img, pad_top, pad_bottom, pad_left, pad_right, cv2.BORDER_CONSTANT, value=0)\n",
    "    padded_mask = cv2.copyMakeBorder(mask, pad_top, pad_bottom, pad_left, pad_right, cv2.BORDER_CONSTANT, value=0)\n",
    "\n",
    "    # Save results\n",
    "    cv2.imwrite(os.path.join(padded_image_dir, filename), padded_img)\n",
    "    cv2.imwrite(os.path.join(padded_mask_dir, filename), padded_mask)\n",
    "\n",
    "print(\"✅ Padding complete! All cusp images and masks are now the same size.\")\n"
   ]
  },
  {
   "cell_type": "code",
   "execution_count": null,
   "metadata": {},
   "outputs": [],
   "source": []
  }
 ],
 "metadata": {
  "kernelspec": {
   "display_name": "tf-m2",
   "language": "python",
   "name": "python3"
  },
  "language_info": {
   "codemirror_mode": {
    "name": "ipython",
    "version": 3
   },
   "file_extension": ".py",
   "mimetype": "text/x-python",
   "name": "python",
   "nbconvert_exporter": "python",
   "pygments_lexer": "ipython3",
   "version": "3.10.16"
  }
 },
 "nbformat": 4,
 "nbformat_minor": 2
}
