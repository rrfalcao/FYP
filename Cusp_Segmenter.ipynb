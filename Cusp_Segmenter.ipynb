{
 "cells": [
  {
   "cell_type": "code",
   "execution_count": 1,
   "metadata": {},
   "outputs": [
    {
     "data": {
      "application/vnd.jupyter.widget-view+json": {
       "model_id": "ebe3506e0d5544da99fea6137e04a2e2",
       "version_major": 2,
       "version_minor": 0
      },
      "text/plain": [
       "VBox(children=(Output(), HBox(children=(Button(button_style='success', description='Yes (Save part)', layout=L…"
      ]
     },
     "metadata": {},
     "output_type": "display_data"
    }
   ],
   "source": [
    "import os\n",
    "import cv2\n",
    "import numpy as np\n",
    "import matplotlib.pyplot as plt\n",
    "from ipywidgets import Button, HBox, VBox, Output, Layout\n",
    "from IPython.display import display, clear_output\n",
    "\n",
    "input_folder = '/Users/rfalcao/Documents/ClearCuspsCroppedRotated'  \n",
    "output_folder = \"/Users/rfalcao/Documents/Segmented Cusps trial\"  \n",
    "os.makedirs(output_folder, exist_ok=True)\n",
    "\n",
    "image_files = [os.path.join(input_folder, f) for f in os.listdir(input_folder) if f.lower().endswith(('.png', '.jpg', '.tif'))]\n",
    "image_queue = image_files[:]  \n",
    "small_image_queue = []  \n",
    "\n",
    "output = Output()\n",
    "\n",
    "def update_display(image, title):\n",
    "    with output:\n",
    "        clear_output(wait=True)\n",
    "        plt.figure(figsize=(6, 6))\n",
    "        plt.title(title)\n",
    "        plt.imshow(image, cmap='gray')\n",
    "        plt.axis('off')\n",
    "        plt.show()\n",
    "\n",
    "# Function to split the image into several 250x250 regions\n",
    "def split_image(image, size=250):\n",
    "    h, w = image.shape\n",
    "    sub_images = []\n",
    "    for y in range(0, h - size + 1, size):  # sliding window approach (can adjust step size)\n",
    "        for x in range(0, w - size + 1, size):\n",
    "            sub_images.append(image[y:y+size, x:x+size])\n",
    "    return sub_images\n",
    "\n",
    "# Function to process next image\n",
    "def next_image():\n",
    "    if small_image_queue:\n",
    "        # Process the most recent small image first\n",
    "        s_image, base_name, i = small_image_queue[-1]\n",
    "        update_display(s_image, f\"Image part {i} of {base_name}\")\n",
    "    elif image_queue:\n",
    "        # Process the next image in the original queue\n",
    "        image_path = image_queue[0]\n",
    "        image = cv2.imread(image_path, cv2.IMREAD_GRAYSCALE)\n",
    "        update_display(image, f\"Inspecting: {os.path.basename(image_path)}\")\n",
    "    else:\n",
    "        with output:\n",
    "            clear_output(wait=True)\n",
    "            print(\"All images processed!\")\n",
    "\n",
    "# Button callbacks\n",
    "def on_yes_clicked(b):\n",
    "    if small_image_queue:\n",
    "        # Process the most recent image part\n",
    "        s_image, base_name, i = small_image_queue.pop()\n",
    "        if s_image.shape[0] == 250 and s_image.shape[1] == 250:  # Only save 250x250 images\n",
    "            save_path = os.path.join(output_folder, f\"{base_name}_part_{i}.png\")\n",
    "            cv2.imwrite(save_path, s_image)  \n",
    "            print(f\"Saved: {save_path}\")\n",
    "    elif image_queue:\n",
    "        # Split the next image in the original queue\n",
    "        image_path = image_queue.pop(0)\n",
    "        image = cv2.imread(image_path, cv2.IMREAD_GRAYSCALE)\n",
    "        base_name = os.path.splitext(os.path.basename(image_path))[0]\n",
    "        sub_images = split_image(image)\n",
    "        for i, s in enumerate(sub_images):\n",
    "            small_image_queue.append((s, base_name, i))  # Add sub-images to the queue\n",
    "    next_image()  \n",
    "\n",
    "def on_no_clicked(b):\n",
    "    if small_image_queue:\n",
    "        small_image_queue.pop() \n",
    "    next_image()  \n",
    "\n",
    "# Create buttons\n",
    "yes_button = Button(description=\"Yes (Save part)\", button_style='success', layout=Layout(width='150px'))\n",
    "no_button = Button(description=\"No (Skip)\", button_style='warning', layout=Layout(width='150px'))\n",
    "\n",
    "yes_button.on_click(on_yes_clicked)\n",
    "no_button.on_click(on_no_clicked)\n",
    "\n",
    "controls = HBox([yes_button, no_button])\n",
    "display(VBox([output, controls]))\n",
    "\n",
    "# Start processing\n",
    "next_image()\n"
   ]
  }
 ],
 "metadata": {
  "kernelspec": {
   "display_name": "tf-m2",
   "language": "python",
   "name": "python3"
  },
  "language_info": {
   "codemirror_mode": {
    "name": "ipython",
    "version": 3
   },
   "file_extension": ".py",
   "mimetype": "text/x-python",
   "name": "python",
   "nbconvert_exporter": "python",
   "pygments_lexer": "ipython3",
   "version": "3.10.16"
  }
 },
 "nbformat": 4,
 "nbformat_minor": 2
}
