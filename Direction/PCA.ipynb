{
 "cells": [
  {
   "cell_type": "code",
   "execution_count": 1,
   "metadata": {},
   "outputs": [],
   "source": [
    "import os\n",
    "import numpy as np\n",
    "import matplotlib.pyplot as plt\n",
    "from PIL import Image\n",
    "from sklearn.decomposition import PCA\n",
    "import cv2"
   ]
  },
  {
   "cell_type": "code",
   "execution_count": 2,
   "metadata": {},
   "outputs": [],
   "source": [
    "image_dir = \"/Users/rfalcao/Documents/FYP/ManualSegmentationAnns/cusp_images\"\n",
    "mask_dir = \"/Users/rfalcao/Documents/FYP/ManualSegmentationAnns/masks\""
   ]
  },
  {
   "cell_type": "code",
   "execution_count": 3,
   "metadata": {},
   "outputs": [
    {
     "ename": "FileNotFoundError",
     "evalue": "[Errno 2] No such file or directory: '/Users/rfalcao/Documents/FYP/ManualSegmentationAnns/masks/cusp_254.jpg'",
     "output_type": "error",
     "traceback": [
      "\u001b[0;31m---------------------------------------------------------------------------\u001b[0m",
      "\u001b[0;31mFileNotFoundError\u001b[0m                         Traceback (most recent call last)",
      "Cell \u001b[0;32mIn[3], line 59\u001b[0m\n\u001b[1;32m     57\u001b[0m \u001b[38;5;28;01mfor\u001b[39;00m fname \u001b[38;5;129;01min\u001b[39;00m os\u001b[38;5;241m.\u001b[39mlistdir(image_dir)[:\u001b[38;5;241m8\u001b[39m]:\n\u001b[1;32m     58\u001b[0m     \u001b[38;5;28;01mif\u001b[39;00m fname\u001b[38;5;241m.\u001b[39mendswith((\u001b[38;5;124m\"\u001b[39m\u001b[38;5;124m.png\u001b[39m\u001b[38;5;124m\"\u001b[39m, \u001b[38;5;124m\"\u001b[39m\u001b[38;5;124m.jpg\u001b[39m\u001b[38;5;124m\"\u001b[39m, \u001b[38;5;124m\"\u001b[39m\u001b[38;5;124m.tif\u001b[39m\u001b[38;5;124m\"\u001b[39m)):\n\u001b[0;32m---> 59\u001b[0m         \u001b[43mprocess_image\u001b[49m\u001b[43m(\u001b[49m\u001b[43mfname\u001b[49m\u001b[43m)\u001b[49m\n",
      "Cell \u001b[0;32mIn[3], line 12\u001b[0m, in \u001b[0;36mprocess_image\u001b[0;34m(image_name)\u001b[0m\n\u001b[1;32m     10\u001b[0m \u001b[38;5;66;03m# Load image and mask\u001b[39;00m\n\u001b[1;32m     11\u001b[0m image \u001b[38;5;241m=\u001b[39m np\u001b[38;5;241m.\u001b[39marray(Image\u001b[38;5;241m.\u001b[39mopen(image_path)\u001b[38;5;241m.\u001b[39mconvert(\u001b[38;5;124m\"\u001b[39m\u001b[38;5;124mRGB\u001b[39m\u001b[38;5;124m\"\u001b[39m))\n\u001b[0;32m---> 12\u001b[0m mask \u001b[38;5;241m=\u001b[39m np\u001b[38;5;241m.\u001b[39marray(\u001b[43mImage\u001b[49m\u001b[38;5;241;43m.\u001b[39;49m\u001b[43mopen\u001b[49m\u001b[43m(\u001b[49m\u001b[43mmask_path\u001b[49m\u001b[43m)\u001b[49m\u001b[38;5;241m.\u001b[39mconvert(\u001b[38;5;124m\"\u001b[39m\u001b[38;5;124mL\u001b[39m\u001b[38;5;124m\"\u001b[39m))\n\u001b[1;32m     14\u001b[0m \u001b[38;5;66;03m# Threshold mask to binary\u001b[39;00m\n\u001b[1;32m     15\u001b[0m mask \u001b[38;5;241m=\u001b[39m (mask \u001b[38;5;241m>\u001b[39m \u001b[38;5;241m0\u001b[39m)\u001b[38;5;241m.\u001b[39mastype(np\u001b[38;5;241m.\u001b[39muint8)\n",
      "File \u001b[0;32m~/anaconda3/envs/tf-m2/lib/python3.10/site-packages/PIL/Image.py:3465\u001b[0m, in \u001b[0;36mopen\u001b[0;34m(fp, mode, formats)\u001b[0m\n\u001b[1;32m   3462\u001b[0m     filename \u001b[38;5;241m=\u001b[39m os\u001b[38;5;241m.\u001b[39mfspath(fp)\n\u001b[1;32m   3464\u001b[0m \u001b[38;5;28;01mif\u001b[39;00m filename:\n\u001b[0;32m-> 3465\u001b[0m     fp \u001b[38;5;241m=\u001b[39m \u001b[43mbuiltins\u001b[49m\u001b[38;5;241;43m.\u001b[39;49m\u001b[43mopen\u001b[49m\u001b[43m(\u001b[49m\u001b[43mfilename\u001b[49m\u001b[43m,\u001b[49m\u001b[43m \u001b[49m\u001b[38;5;124;43m\"\u001b[39;49m\u001b[38;5;124;43mrb\u001b[39;49m\u001b[38;5;124;43m\"\u001b[39;49m\u001b[43m)\u001b[49m\n\u001b[1;32m   3466\u001b[0m     exclusive_fp \u001b[38;5;241m=\u001b[39m \u001b[38;5;28;01mTrue\u001b[39;00m\n\u001b[1;32m   3467\u001b[0m \u001b[38;5;28;01melse\u001b[39;00m:\n",
      "\u001b[0;31mFileNotFoundError\u001b[0m: [Errno 2] No such file or directory: '/Users/rfalcao/Documents/FYP/ManualSegmentationAnns/masks/cusp_254.jpg'"
     ]
    }
   ],
   "source": [
    "\n",
    "\n",
    "# Helper to normalize a vector\n",
    "def normalize(v):\n",
    "    return v / np.linalg.norm(v)\n",
    "\n",
    "# Process one image-mask pair\n",
    "def process_image(image_name):\n",
    "    image_path = os.path.join(image_dir, image_name)\n",
    "    mask_path = os.path.join(mask_dir, image_name.replace(\".jpg\", \".png\"))\n",
    "\n",
    "    # Load image and mask\n",
    "    image = np.array(Image.open(image_path).convert(\"RGB\"))\n",
    "    mask = np.array(Image.open(mask_path).convert(\"L\"))\n",
    "\n",
    "    # Threshold mask to binary\n",
    "    mask = (mask > 0).astype(np.uint8)\n",
    "\n",
    "    # Get coordinates of mask pixels\n",
    "    y_idxs, x_idxs = np.nonzero(mask)\n",
    "    coords = np.stack((x_idxs, y_idxs), axis=1)  # shape: (N, 2)\n",
    "\n",
    "    if coords.shape[0] < 2:\n",
    "        print(f\"Mask too small in {image_name}\")\n",
    "        return\n",
    "\n",
    "    # Apply PCA\n",
    "    pca = PCA(n_components=2)\n",
    "    pca.fit(coords)\n",
    "\n",
    "    # Get principal axis direction\n",
    "    direction = pca.components_[0]  # (dx, dy)\n",
    "    center = pca.mean_\n",
    "\n",
    "    # Project all points onto the axis\n",
    "    projections = coords @ direction\n",
    "    tip_coord = coords[np.argmax(projections)]\n",
    "    base_coord = coords[np.argmin(projections)]\n",
    "\n",
    "    # Vector from base to tip\n",
    "    vector = tip_coord - base_coord\n",
    "    unit_vector = normalize(vector)\n",
    "\n",
    "    print(f\"{image_name}: unit vector = {unit_vector}\")\n",
    "\n",
    "    # --- Optional: visualization ---\n",
    "    plt.imshow(image)\n",
    "    plt.plot([base_coord[0], tip_coord[0]], [base_coord[1], tip_coord[1]], 'r-', linewidth=2)\n",
    "    plt.scatter(center[0], center[1], color='blue', label='PCA Center')\n",
    "    plt.arrow(base_coord[0], base_coord[1],\n",
    "              unit_vector[0]*30, unit_vector[1]*30,\n",
    "              head_width=5, color='lime', label='Direction')\n",
    "    plt.title(f\"{image_name} - PCA direction\")\n",
    "    plt.legend()\n",
    "    plt.axis('off')\n",
    "    plt.show()\n",
    "\n",
    "# Example usage\n",
    "for fname in os.listdir(image_dir)[:8]:\n",
    "    if fname.endswith((\".png\", \".jpg\", \".tif\")):\n",
    "        process_image(fname)\n"
   ]
  }
 ],
 "metadata": {
  "kernelspec": {
   "display_name": "tf-m2",
   "language": "python",
   "name": "python3"
  },
  "language_info": {
   "codemirror_mode": {
    "name": "ipython",
    "version": 3
   },
   "file_extension": ".py",
   "mimetype": "text/x-python",
   "name": "python",
   "nbconvert_exporter": "python",
   "pygments_lexer": "ipython3",
   "version": "3.10.16"
  }
 },
 "nbformat": 4,
 "nbformat_minor": 2
}
