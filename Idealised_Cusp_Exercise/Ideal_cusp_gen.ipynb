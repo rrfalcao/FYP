{
 "cells": [
  {
   "cell_type": "code",
   "execution_count": 13,
   "metadata": {},
   "outputs": [
    {
     "name": "stdout",
     "output_type": "stream",
     "text": [
      "✅ 50 cusp images and masks saved in 'idealised_cusps'\n"
     ]
    }
   ],
   "source": [
    "import numpy as np\n",
    "import cv2\n",
    "import os\n",
    "import random\n",
    "\n",
    "def generate_cusp_image(img_size=(224, 224), cusp_color=100, bg_color=180, mask_color=255, \n",
    "                         add_texture=True, blur=True):\n",
    "    \"\"\"Generates an idealised cusp image and corresponding mask with varying ellipse widths and shades of grey.\"\"\"\n",
    "    h, w = img_size\n",
    "    img = np.ones((h, w), dtype=np.uint8) * bg_color\n",
    "    mask = np.zeros((h, w), dtype=np.uint8)\n",
    "\n",
    "    # Define cusp shape (U-shape with extended vertical sections)\n",
    "    center_x, center_y = w // 2, h // 2 + 30\n",
    "    cusp_radius = random.randint(50, 80)  # Varying width of the ellipse\n",
    "    thickness = 20\n",
    "\n",
    "    # Draw the U-shape (cusp) with extended vertical sections\n",
    "    cv2.ellipse(img, (center_x, center_y), (cusp_radius, cusp_radius//2), 0, 0, 180, cusp_color, thickness)\n",
    "    cv2.ellipse(mask, (center_x, center_y), (cusp_radius, cusp_radius//2), 0, 0, 180, mask_color, thickness)\n",
    "    \n",
    "    # Draw vertical extensions to seamlessly connect with the U-shape\n",
    "    line_length = 40  # Adjust length for proper connection\n",
    "    start_y = center_y - cusp_radius//2 + thickness // 2  # Ensure alignment with ellipse\n",
    "    end_y = start_y - line_length\n",
    "\n",
    "    # Move the lines downward to connect better with the ellipse\n",
    "    cv2.line(img, (center_x - cusp_radius, start_y + 5), \n",
    "             (center_x - cusp_radius, end_y + 5), cusp_color, thickness)\n",
    "    cv2.line(img, (center_x + cusp_radius, start_y + 5), \n",
    "             (center_x + cusp_radius, end_y + 5), cusp_color, thickness)\n",
    "    \n",
    "    cv2.line(mask, (center_x - cusp_radius, start_y + 5), \n",
    "             (center_x - cusp_radius, end_y + 5), mask_color, thickness)\n",
    "    cv2.line(mask, (center_x + cusp_radius, start_y + 5), \n",
    "             (center_x + cusp_radius, end_y + 5), mask_color, thickness)\n",
    "\n",
    "    # Add texture if needed\n",
    "    if add_texture:\n",
    "        noise = np.random.normal(0, 10, img.shape).astype(np.uint8)\n",
    "        img = cv2.add(img, noise)\n",
    "\n",
    "    # Apply Gaussian blur for smoother transitions\n",
    "    if blur:\n",
    "        img = cv2.GaussianBlur(img, (5, 5), 0)\n",
    "\n",
    "    return img, mask\n",
    "\n",
    "def save_cusp_images(num_samples=10, output_dir=\"idealised_cusps\"):\n",
    "    \"\"\"Generates and saves multiple cusp images and masks with varying shapes and grayscale variations.\"\"\"\n",
    "    mask_dir = os.path.join(output_dir, \"masks\")\n",
    "    image_dir = os.path.join(output_dir, \"images\")\n",
    "    os.makedirs(mask_dir, exist_ok=True)\n",
    "    os.makedirs(image_dir, exist_ok=True)\n",
    "\n",
    "    grayscale_options = [(50, 200), (80, 170), (100, 180), (120, 160), (150, 220)]  # Different cusp/bg color pairs\n",
    "    \n",
    "    for i in range(num_samples):\n",
    "        for j, (cusp_color, bg_color) in enumerate(grayscale_options):\n",
    "            cusp_img, cusp_mask = generate_cusp_image(cusp_color=cusp_color, bg_color=bg_color)\n",
    "            cv2.imwrite(os.path.join(image_dir, f\"cusp_{i}_{j}.png\"), cusp_img)\n",
    "            cv2.imwrite(os.path.join(mask_dir, f\"cusp_{i}_{j}.png\"), cusp_mask)\n",
    "    \n",
    "    print(f\"✅ {num_samples * len(grayscale_options)} cusp images and masks saved in '{output_dir}'\")\n",
    "\n",
    "if __name__ == \"__main__\":\n",
    "    save_cusp_images(num_samples=10)\n"
   ]
  }
 ],
 "metadata": {
  "kernelspec": {
   "display_name": "tf-m2",
   "language": "python",
   "name": "python3"
  },
  "language_info": {
   "codemirror_mode": {
    "name": "ipython",
    "version": 3
   },
   "file_extension": ".py",
   "mimetype": "text/x-python",
   "name": "python",
   "nbconvert_exporter": "python",
   "pygments_lexer": "ipython3",
   "version": "3.10.16"
  }
 },
 "nbformat": 4,
 "nbformat_minor": 2
}
